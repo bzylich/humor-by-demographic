{
  "nbformat": 4,
  "nbformat_minor": 0,
  "metadata": {
    "kernelspec": {
      "display_name": "Python 3",
      "language": "python",
      "name": "python3"
    },
    "language_info": {
      "codemirror_mode": {
        "name": "ipython",
        "version": 3
      },
      "file_extension": ".py",
      "mimetype": "text/x-python",
      "name": "python",
      "nbconvert_exporter": "python",
      "pygments_lexer": "ipython3",
      "version": "3.7.4"
    },
    "pycharm": {
      "stem_cell": {
        "cell_type": "raw",
        "metadata": {
          "collapsed": false
        },
        "source": []
      }
    },
    "colab": {
      "name": "brian-lm-ensembles.ipynb",
      "provenance": [],
      "collapsed_sections": [],
      "machine_shape": "hm"
    },
    "accelerator": "GPU"
  },
  "cells": [
    {
      "cell_type": "markdown",
      "metadata": {
        "id": "gYR83G3CTMIZ"
      },
      "source": [
        "This notebook ensembles predictions from various models (by average). First, there are some libraries and datasets that we need to load."
      ]
    },
    {
      "cell_type": "code",
      "metadata": {
        "pycharm": {
          "is_executing": false,
          "name": "#%% code\n"
        },
        "scrolled": true,
        "id": "fWbOQ6jV8AEz",
        "colab": {
          "base_uri": "https://localhost:8080/"
        },
        "outputId": "92564592-ba66-4965-93d1-819cf9338082"
      },
      "source": [
        "!pip install transformers"
      ],
      "execution_count": 1,
      "outputs": [
        {
          "output_type": "stream",
          "text": [
            "Collecting transformers\n",
            "\u001b[?25l  Downloading https://files.pythonhosted.org/packages/99/84/7bc03215279f603125d844bf81c3fb3f2d50fe8e511546eb4897e4be2067/transformers-4.0.0-py3-none-any.whl (1.4MB)\n",
            "\u001b[K     |████████████████████████████████| 1.4MB 7.7MB/s \n",
            "\u001b[?25hCollecting sacremoses\n",
            "\u001b[?25l  Downloading https://files.pythonhosted.org/packages/7d/34/09d19aff26edcc8eb2a01bed8e98f13a1537005d31e95233fd48216eed10/sacremoses-0.0.43.tar.gz (883kB)\n",
            "\u001b[K     |████████████████████████████████| 890kB 33.0MB/s \n",
            "\u001b[?25hRequirement already satisfied: packaging in /usr/local/lib/python3.6/dist-packages (from transformers) (20.4)\n",
            "Requirement already satisfied: requests in /usr/local/lib/python3.6/dist-packages (from transformers) (2.23.0)\n",
            "Requirement already satisfied: regex!=2019.12.17 in /usr/local/lib/python3.6/dist-packages (from transformers) (2019.12.20)\n",
            "Requirement already satisfied: dataclasses; python_version < \"3.7\" in /usr/local/lib/python3.6/dist-packages (from transformers) (0.8)\n",
            "Requirement already satisfied: numpy in /usr/local/lib/python3.6/dist-packages (from transformers) (1.18.5)\n",
            "Requirement already satisfied: tqdm>=4.27 in /usr/local/lib/python3.6/dist-packages (from transformers) (4.41.1)\n",
            "Collecting tokenizers==0.9.4\n",
            "\u001b[?25l  Downloading https://files.pythonhosted.org/packages/0f/1c/e789a8b12e28be5bc1ce2156cf87cb522b379be9cadc7ad8091a4cc107c4/tokenizers-0.9.4-cp36-cp36m-manylinux2010_x86_64.whl (2.9MB)\n",
            "\u001b[K     |████████████████████████████████| 2.9MB 47.7MB/s \n",
            "\u001b[?25hRequirement already satisfied: filelock in /usr/local/lib/python3.6/dist-packages (from transformers) (3.0.12)\n",
            "Requirement already satisfied: six in /usr/local/lib/python3.6/dist-packages (from sacremoses->transformers) (1.15.0)\n",
            "Requirement already satisfied: click in /usr/local/lib/python3.6/dist-packages (from sacremoses->transformers) (7.1.2)\n",
            "Requirement already satisfied: joblib in /usr/local/lib/python3.6/dist-packages (from sacremoses->transformers) (0.17.0)\n",
            "Requirement already satisfied: pyparsing>=2.0.2 in /usr/local/lib/python3.6/dist-packages (from packaging->transformers) (2.4.7)\n",
            "Requirement already satisfied: urllib3!=1.25.0,!=1.25.1,<1.26,>=1.21.1 in /usr/local/lib/python3.6/dist-packages (from requests->transformers) (1.24.3)\n",
            "Requirement already satisfied: certifi>=2017.4.17 in /usr/local/lib/python3.6/dist-packages (from requests->transformers) (2020.11.8)\n",
            "Requirement already satisfied: idna<3,>=2.5 in /usr/local/lib/python3.6/dist-packages (from requests->transformers) (2.10)\n",
            "Requirement already satisfied: chardet<4,>=3.0.2 in /usr/local/lib/python3.6/dist-packages (from requests->transformers) (3.0.4)\n",
            "Building wheels for collected packages: sacremoses\n",
            "  Building wheel for sacremoses (setup.py) ... \u001b[?25l\u001b[?25hdone\n",
            "  Created wheel for sacremoses: filename=sacremoses-0.0.43-cp36-none-any.whl size=893257 sha256=324e91a74390516e88b1ba11b1e6f12d2c5ab6fb768aed4f448958f80ef288cb\n",
            "  Stored in directory: /root/.cache/pip/wheels/29/3c/fd/7ce5c3f0666dab31a50123635e6fb5e19ceb42ce38d4e58f45\n",
            "Successfully built sacremoses\n",
            "Installing collected packages: sacremoses, tokenizers, transformers\n",
            "Successfully installed sacremoses-0.0.43 tokenizers-0.9.4 transformers-4.0.0\n"
          ],
          "name": "stdout"
        }
      ]
    },
    {
      "cell_type": "code",
      "metadata": {
        "pycharm": {
          "is_executing": false,
          "name": "#%% code\n"
        },
        "id": "FE9TzkSZ8AE1"
      },
      "source": [
        "from sklearn.model_selection import train_test_split\n",
        "from sklearn.metrics import roc_auc_score, f1_score, mean_squared_error, accuracy_score\n",
        "from transformers import AutoConfig, AutoTokenizer, AutoModelForSequenceClassification, AutoModel, AdamW, get_linear_schedule_with_warmup, pipeline\n",
        "import torch\n",
        "import pandas as pd\n",
        "import argparse\n",
        "from torch.utils.data import DataLoader\n",
        "import torch.nn.functional as F\n",
        "import numpy as np\n",
        "import matplotlib.pyplot as plt\n",
        "import pickle\n",
        "from itertools import chain, combinations\n",
        "\n",
        "# sentiment = pipeline(\"sentiment-analysis\")"
      ],
      "execution_count": 2,
      "outputs": []
    },
    {
      "cell_type": "markdown",
      "metadata": {
        "id": "-G-9zqXPTcmz"
      },
      "source": [
        "We use Google Drive for storing/retrieving data files, so they must be in the appropriate file structure within Drive for this code to work."
      ]
    },
    {
      "cell_type": "code",
      "metadata": {
        "id": "mFUbRZPkA5Fi",
        "colab": {
          "base_uri": "https://localhost:8080/"
        },
        "outputId": "dadd764c-746c-4c8e-e3cb-12c654345423"
      },
      "source": [
        "from google.colab import drive\n",
        "drive.mount('/content/drive', force_remount=True)"
      ],
      "execution_count": 3,
      "outputs": [
        {
          "output_type": "stream",
          "text": [
            "Mounted at /content/drive\n"
          ],
          "name": "stdout"
        }
      ]
    },
    {
      "cell_type": "markdown",
      "metadata": {
        "id": "w8km25AJT5GI"
      },
      "source": [
        "Here we read in the Hahackathon data and display some baselines and statistics."
      ]
    },
    {
      "cell_type": "code",
      "metadata": {
        "id": "47qznexsS7ve",
        "colab": {
          "base_uri": "https://localhost:8080/",
          "height": 1000
        },
        "outputId": "ac003247-b38a-4436-ddc0-78a7e70829f4"
      },
      "source": [
        "hahackathon_file = \"/content/drive/My Drive/Hahackathon/train.csv\"\n",
        "hahackathon_df = pd.read_csv(hahackathon_file, encoding=\"utf-8\")\n",
        "\n",
        "hahackathon_texts = list(hahackathon_df[\"text\"])\n",
        "hahackathon_off_ratings = list(hahackathon_df[\"offense_rating\"])\n",
        "hahackathon_humor_labels = list(hahackathon_df[\"is_humor\"])\n",
        "hahackathon_humor_ratings = list(hahackathon_df[\"humor_rating\"].fillna(value=-1))\n",
        "hahackathon_controversy_labels = list(hahackathon_df[\"humor_controversy\"].fillna(value=-1))\n",
        "\n",
        "num_total = len(hahackathon_humor_labels)\n",
        "print(\"num examples:\", num_total)\n",
        "num_humorous = np.sum(np.array(hahackathon_humor_labels) == 1)\n",
        "print(\"num humor:\", num_humorous, \"num not humor:\", num_total - num_humorous)\n",
        "majority_class_humor = np.max([num_humorous, num_total - num_humorous]) / num_total\n",
        "majority_class_humor_f1 = f1_score(np.array(hahackathon_humor_labels), np.ones(num_total))#, labels=[0,1], average='macro')\n",
        "print(\"humor label majority class f1:\", majority_class_humor_f1, \"humor label majority class accuracy:\", majority_class_humor)\n",
        "\n",
        "humor_controversy_minus_nan = np.array(hahackathon_controversy_labels)\n",
        "humor_controversy_minus_nan = humor_controversy_minus_nan[humor_controversy_minus_nan != -1]\n",
        "print(\"num examples with humor controversy:\", len(humor_controversy_minus_nan))\n",
        "num_controversial = np.sum(humor_controversy_minus_nan == 1)\n",
        "print(\"num controversial:\", num_controversial, \"num not controversial:\", len(humor_controversy_minus_nan) - num_controversial)\n",
        "majority_class_controversial = np.max([num_controversial, len(humor_controversy_minus_nan) - num_controversial]) / len(humor_controversy_minus_nan)\n",
        "majority_class_controversial_f1 = f1_score(np.array(humor_controversy_minus_nan), np.zeros(len(humor_controversy_minus_nan)))#, labels=[0,1], average='macro')\n",
        "print(\"humor controversy majority class f1:\", majority_class_controversial_f1, \"humor controversy majority class accuracy:\", majority_class_controversial)\n",
        "\n",
        "humor_ratings_minus_nan = np.array(hahackathon_humor_ratings)\n",
        "humor_ratings_minus_nan = humor_ratings_minus_nan[humor_ratings_minus_nan != -1]\n",
        "print(\"num examples with humor ratings:\", len(humor_ratings_minus_nan))\n",
        "print(\"humor ratings -- min:\", np.min(humor_ratings_minus_nan), \"median:\", np.median(humor_ratings_minus_nan), \"mean:\", np.mean(humor_ratings_minus_nan), \"max:\", np.max(humor_ratings_minus_nan))\n",
        "humor_ratings_mean_rmse = mean_squared_error(humor_ratings_minus_nan, np.ones_like(humor_ratings_minus_nan) * np.mean(humor_ratings_minus_nan), squared=False)\n",
        "humor_ratings_median_rmse = mean_squared_error(humor_ratings_minus_nan, np.ones_like(humor_ratings_minus_nan) * np.median(humor_ratings_minus_nan), squared=False)\n",
        "print(\"humor ratings mean rmse:\", humor_ratings_mean_rmse, \"humor ratings median rmse:\", humor_ratings_median_rmse)\n",
        "\n",
        "plt.hist(humor_ratings_minus_nan, bins = 10)\n",
        "plt.xlabel(\"Humor Rating\")\n",
        "plt.ylabel(\"Examples\")\n",
        "plt.show()\n",
        "\n",
        "humor_controversial = humor_ratings_minus_nan[humor_controversy_minus_nan == 1]\n",
        "print(\"humor ratings (controversial) -- min:\", np.min(humor_controversial), \"median:\", np.median(humor_controversial), \"mean:\", np.mean(humor_controversial), \"max:\", np.max(humor_controversial))\n",
        "\n",
        "plt.hist(humor_controversial, bins = 10)\n",
        "plt.title(\"Humor ratings (controversial)\")\n",
        "plt.xlabel(\"Humor Rating\")\n",
        "plt.ylabel(\"Examples\")\n",
        "plt.show()\n",
        "\n",
        "humor_not_controversial = humor_ratings_minus_nan[humor_controversy_minus_nan == 0]\n",
        "print(\"humor ratings (not controversial) -- min:\", np.min(humor_not_controversial), \"median:\", np.median(humor_not_controversial), \"mean:\", np.mean(humor_not_controversial), \"max:\", np.max(humor_not_controversial))\n",
        "\n",
        "plt.hist(humor_not_controversial, bins = 10)\n",
        "plt.title(\"Humor ratings (not controversial)\")\n",
        "plt.xlabel(\"Humor Rating\")\n",
        "plt.ylabel(\"Examples\")\n",
        "plt.show()\n",
        "\n",
        "print(\"off ratings -- min:\", np.min(hahackathon_off_ratings), \"median:\", np.median(hahackathon_off_ratings), \"mean:\", np.mean(hahackathon_off_ratings), \"max:\", np.max(hahackathon_off_ratings))\n",
        "off_ratings_mean_rmse = mean_squared_error(hahackathon_off_ratings, np.ones_like(hahackathon_off_ratings) * np.mean(hahackathon_off_ratings), squared=False)\n",
        "off_ratings_median_rmse = mean_squared_error(hahackathon_off_ratings, np.ones_like(hahackathon_off_ratings) * np.median(hahackathon_off_ratings), squared=False)\n",
        "print(\"off ratings mean rmse:\", off_ratings_mean_rmse, \"off ratings median rmse:\", off_ratings_median_rmse)\n",
        "\n",
        "plt.hist(hahackathon_off_ratings, bins = 10)\n",
        "plt.xlabel(\"Offense Rating\")\n",
        "plt.ylabel(\"Examples\")\n",
        "plt.show()\n",
        "\n",
        "off_humorous = np.array(hahackathon_off_ratings)[np.array(hahackathon_humor_labels) == 1]\n",
        "print(\"off ratings (humorous) -- min:\", np.min(off_humorous), \"median:\", np.median(off_humorous), \"mean:\", np.mean(off_humorous), \"max:\", np.max(off_humorous))\n",
        "\n",
        "plt.hist(off_humorous, bins = 10)\n",
        "plt.title(\"Offense ratings (humorous)\")\n",
        "plt.xlabel(\"Offense Rating\")\n",
        "plt.ylabel(\"Examples\")\n",
        "plt.show()\n",
        "\n",
        "off_not_humorous = np.array(hahackathon_off_ratings)[np.array(hahackathon_humor_labels) == 0]\n",
        "print(\"off ratings (not humorous) -- min:\", np.min(off_not_humorous), \"median:\", np.median(off_not_humorous), \"mean:\", np.mean(off_not_humorous), \"max:\", np.max(off_not_humorous))\n",
        "\n",
        "plt.hist(off_not_humorous, bins = 10)\n",
        "plt.title(\"Offense ratings (not humorous)\")\n",
        "plt.xlabel(\"Offense Rating\")\n",
        "plt.ylabel(\"Examples\")\n",
        "plt.show()"
      ],
      "execution_count": 6,
      "outputs": [
        {
          "output_type": "stream",
          "text": [
            "num examples: 8000\n",
            "num humor: 4932 num not humor: 3068\n",
            "humor label majority class f1: 0.7627590473244664 humor label majority class accuracy: 0.6165\n",
            "num examples with humor controversy: 4932\n",
            "num controversial: 2465 num not controversial: 2467\n",
            "humor controversy majority class f1: 0.0 humor controversy majority class accuracy: 0.5002027575020276\n",
            "num examples with humor ratings: 4932\n",
            "humor ratings -- min: 0.1 median: 2.28 mean: 2.2605251419302514 max: 4.0\n",
            "humor ratings mean rmse: 0.5669164577335435 humor ratings median rmse: 0.567250861741069\n"
          ],
          "name": "stdout"
        },
        {
          "output_type": "display_data",
          "data": {
            "image/png": "[encoded data removed]",
            "text/plain": [
              "<Figure size 432x288 with 1 Axes>"
            ]
          },
          "metadata": {
            "tags": [],
            "needs_background": "light"
          }
        },
        {
          "output_type": "stream",
          "text": [
            "humor ratings (controversial) -- min: 0.45 median: 2.37 mean: 2.3590101419878295 max: 3.68\n"
          ],
          "name": "stdout"
        },
        {
          "output_type": "display_data",
          "data": {
            "image/png": "[encoded data removed]",
            "text/plain": [
              "<Figure size 432x288 with 1 Axes>"
            ]
          },
          "metadata": {
            "tags": [],
            "needs_background": "light"
          }
        },
        {
          "output_type": "stream",
          "text": [
            "humor ratings (not controversial) -- min: 0.1 median: 2.15 mean: 2.1621199837859746 max: 4.0\n"
          ],
          "name": "stdout"
        },
        {
          "output_type": "display_data",
          "data": {
            "image/png": "[encoded data removed]",
            "text/plain": [
              "<Figure size 432x288 with 1 Axes>"
            ]
          },
          "metadata": {
            "tags": [],
            "needs_background": "light"
          }
        },
        {
          "output_type": "stream",
          "text": [
            "off ratings -- min: 0.0 median: 0.1 mean: 0.5853250000000001 max: 4.85\n",
            "off ratings mean rmse: 0.9798939454731823 off ratings median rmse: 1.0934955418290466\n"
          ],
          "name": "stdout"
        },
        {
          "output_type": "display_data",
          "data": {
            "image/png": "[encoded data removed]",
            "text/plain": [
              "<Figure size 432x288 with 1 Axes>"
            ]
          },
          "metadata": {
            "tags": [],
            "needs_background": "light"
          }
        },
        {
          "output_type": "stream",
          "text": [
            "off ratings (humorous) -- min: 0.0 median: 0.35 mean: 0.8987226277372263 max: 4.85\n"
          ],
          "name": "stdout"
        },
        {
          "output_type": "display_data",
          "data": {
            "image/png": "[encoded data removed]",
            "text/plain": [
              "<Figure size 432x288 with 1 Axes>"
            ]
          },
          "metadata": {
            "tags": [],
            "needs_background": "light"
          }
        },
        {
          "output_type": "stream",
          "text": [
            "off ratings (not humorous) -- min: 0.0 median: 0.0 mean: 0.08151890482398957 max: 3.65\n"
          ],
          "name": "stdout"
        },
        {
          "output_type": "display_data",
          "data": {
            "image/png": "[encoded data removed]",
            "text/plain": [
              "<Figure size 432x288 with 1 Axes>"
            ]
          },
          "metadata": {
            "tags": [],
            "needs_background": "light"
          }
        }
      ]
    },
    {
      "cell_type": "code",
      "metadata": {
        "id": "dXaRirLhzC44"
      },
      "source": [
        "hahackathon_train_file = \"/content/drive/My Drive/Hahackathon/internal_split/train_90.csv\"\n",
        "hahackathon_train_df = pd.read_csv(hahackathon_train_file, encoding=\"utf-8\")\n",
        "\n",
        "haha_train_texts = list(hahackathon_train_df[\"text\"])\n",
        "haha_train_off_ratings = list(hahackathon_train_df[\"offense_rating\"])\n",
        "haha_train_humor_labels = list(hahackathon_train_df[\"is_humor\"])\n",
        "haha_train_humor_ratings = list(hahackathon_train_df[\"humor_rating\"].fillna(value=-1))\n",
        "haha_train_humor_controversy = list(hahackathon_train_df[\"humor_controversy\"].fillna(value=-1))\n",
        "\n",
        "hahackathon_val_file = \"/content/drive/My Drive/Hahackathon/internal_split/test_10.csv\"\n",
        "hahackathon_val_df = pd.read_csv(hahackathon_val_file, encoding=\"utf-8\")\n",
        "\n",
        "haha_val_texts = list(hahackathon_val_df[\"text\"])\n",
        "haha_val_off_ratings = np.array(hahackathon_val_df[\"offense_rating\"])\n",
        "haha_val_humor_labels = np.array(hahackathon_val_df[\"is_humor\"])\n",
        "haha_val_humor_ratings = np.array(hahackathon_val_df[\"humor_rating\"].fillna(value=-1))\n",
        "haha_val_humor_controversy = np.array(hahackathon_val_df[\"humor_controversy\"].fillna(value=-1))"
      ],
      "execution_count": 7,
      "outputs": []
    },
    {
      "cell_type": "markdown",
      "metadata": {
        "id": "5WA98IPwUBdR"
      },
      "source": [
        "This function is used to enumerate all possible model combinations for finding the best way to ensemble for each task (optimized on internal dev set)."
      ]
    },
    {
      "cell_type": "code",
      "metadata": {
        "colab": {
          "base_uri": "https://localhost:8080/"
        },
        "id": "2xdEUIv2eUq9",
        "outputId": "20da9f3f-ee25-4c59-e020-6340855853e6"
      },
      "source": [
        "def get_combinations(x):\n",
        "    s = list(x)\n",
        "    return list(chain.from_iterable(combinations(s, r) for r in range(len(s)+1)))[1:]\n",
        "\n",
        "len(list(get_combinations(list(range(7)))))"
      ],
      "execution_count": 8,
      "outputs": [
        {
          "output_type": "execute_result",
          "data": {
            "text/plain": [
              "127"
            ]
          },
          "metadata": {
            "tags": []
          },
          "execution_count": 8
        }
      ]
    },
    {
      "cell_type": "markdown",
      "metadata": {
        "id": "LqCBIL2SUMeW"
      },
      "source": [
        "This function generates predictions for the leaderboard using our simple statistical baselines."
      ]
    },
    {
      "cell_type": "code",
      "metadata": {
        "id": "ueSnxsuiWE43"
      },
      "source": [
        "def generate_simple_predictions(all_models, out_path):\n",
        "    \n",
        "    ids = None\n",
        "\n",
        "    for model in all_models:\n",
        "        base_path = \"/content/drive/My Drive/Hahackathon/\"\n",
        "        \n",
        "        preds_df = pd.read_csv(base_path + model + \"_out_dev_preds.csv\")\n",
        "\n",
        "        if ids is None:\n",
        "            ids = list(preds_df[\"id\"])\n",
        "        else:\n",
        "            assert ids == list(preds_df[\"id\"])\n",
        "\n",
        "    with open(out_path, \"w\") as out_file:\n",
        "        out_file.write(\"id,is_humor,humor_rating,humor_controversy,offense_rating\\n\")\n",
        "\n",
        "        for i in range(len(ids)):\n",
        "            format_str = \",\".join([str(ids[i]), str(1), str(2.2605251419), str(0), str(0.585325)])\n",
        "            # print(format_str)\n",
        "            out_file.write(format_str + \"\\n\")\n",
        "\n",
        "            if i % 100 == 0:\n",
        "                print(i, \"done\")"
      ],
      "execution_count": 9,
      "outputs": []
    },
    {
      "cell_type": "markdown",
      "metadata": {
        "id": "73R6YnOYUS8c"
      },
      "source": [
        "This function uses our model ensembles to generate predictions for the leaderboard (possibly using some subset of models for each task)."
      ]
    },
    {
      "cell_type": "code",
      "metadata": {
        "id": "zee-rflvCHwe"
      },
      "source": [
        "def generate_predictions(all_models, humor_comb, humor_rating_comb, controversy_comb, off_comb, out_path):\n",
        "    \n",
        "    ids = None\n",
        "\n",
        "    all_humor_logits = []\n",
        "    all_humor_rating_logits = []\n",
        "    all_controversy_logits = []\n",
        "    all_off_logits = []\n",
        "\n",
        "\n",
        "    for model in all_models:\n",
        "        base_path = \"/content/drive/My Drive/Hahackathon/\"\n",
        "        \n",
        "        preds_df = pd.read_csv(base_path + model + \"_out_dev_preds.csv\")\n",
        "\n",
        "        if ids is None:\n",
        "            ids = list(preds_df[\"id\"])\n",
        "        else:\n",
        "            assert ids == list(preds_df[\"id\"])\n",
        "\n",
        "        model_humor_logits = list(preds_df[\"is_humor\"])\n",
        "        model_humor_rating_logits = list(preds_df[\"humor_rating\"])\n",
        "        model_controversy_logits = list(preds_df[\"humor_controversy\"])\n",
        "        model_off_logits = list(preds_df[\"offense_rating\"])\n",
        "\n",
        "        if model in humor_comb:\n",
        "            all_humor_logits.append(model_humor_logits)\n",
        "        if model in humor_rating_comb:\n",
        "            all_humor_rating_logits.append(model_humor_rating_logits)\n",
        "        if model in controversy_comb:\n",
        "            all_controversy_logits.append(model_controversy_logits)\n",
        "        if model in off_comb:\n",
        "            all_off_logits.append(model_off_logits)\n",
        "\n",
        "\n",
        "    mean_humor_logits = np.mean(all_humor_logits, axis=0)\n",
        "    mean_humor_rating_logits = np.mean(all_humor_rating_logits, axis=0)\n",
        "    mean_controversy_logits = np.mean(all_controversy_logits, axis=0)\n",
        "    mean_off_logits = np.mean(all_off_logits, axis=0)\n",
        "\n",
        "    mean_humor_logits = np.round(mean_humor_logits)\n",
        "    mean_controversy_logits = np.round(mean_controversy_logits)\n",
        "\n",
        "    with open(out_path, \"w\") as out_file:\n",
        "        out_file.write(\"id,is_humor,humor_rating,humor_controversy,offense_rating\\n\")\n",
        "\n",
        "        for i in range(len(ids)):\n",
        "            format_str = \",\".join([str(ids[i]), str(int(mean_humor_logits[i])), str(mean_humor_rating_logits[i]), str(int(mean_controversy_logits[i])), str(mean_off_logits[i])])\n",
        "            # print(format_str)\n",
        "            out_file.write(format_str + \"\\n\")\n",
        "\n",
        "            if i % 100 == 0:\n",
        "                print(i, \"done\")"
      ],
      "execution_count": 35,
      "outputs": []
    },
    {
      "cell_type": "markdown",
      "metadata": {
        "id": "1NsoPOSUcofF"
      },
      "source": [
        "Ensemble all models trained only on competition dataset:"
      ]
    },
    {
      "cell_type": "code",
      "metadata": {
        "colab": {
          "base_uri": "https://localhost:8080/"
        },
        "id": "RQySUaofcNEP",
        "outputId": "e721794d-ac36-4daa-b3d2-59b8c44d1243"
      },
      "source": [
        "models = [\"distilroberta-base\", \"distilbert-base-uncased\", \"roberta-large\", \"bert-large-uncased-whole-word-masking\", \"albert-base-v2\", \"roberta-base\", \"bert-base-uncased\"]\n",
        "\n",
        "all_humor_preds = []\n",
        "all_humor_rating_preds = []\n",
        "all_controversy_preds = []\n",
        "all_off_preds = []\n",
        "for m in models:\n",
        "    print(\"---------------------------------------\")\n",
        "    print(\"model:\", m)\n",
        "    base_path = \"/content/drive/My Drive/Hahackathon/\"\n",
        "    humor_pred = np.load(base_path + m + \"_predictions_humor.npy\")\n",
        "    all_humor_preds.append(humor_pred)\n",
        "    humor_ratings_pred = np.load(base_path + m + \"_predictions_humor_rating.npy\")\n",
        "    all_humor_rating_preds.append(humor_ratings_pred)\n",
        "    controversy_pred = np.load(base_path + m + \"_predictions_humor_controversy.npy\")\n",
        "    all_controversy_preds.append(controversy_pred)\n",
        "    off_pred = np.load(base_path + m + \"_predictions_off.npy\")\n",
        "    all_off_preds.append(off_pred)\n",
        "\n",
        "    # humor f1 and acc\n",
        "    f1 = f1_score(haha_val_humor_labels, humor_pred.argmax(axis=1))#, labels=[0, 1], average='macro')\n",
        "    acc = accuracy_score(haha_val_humor_labels, humor_pred.argmax(axis=1))\n",
        "    print(\"humor f1:\", f1, \"acc:\", acc)\n",
        "\n",
        "    # humor rating rmse\n",
        "    rmse = mean_squared_error(haha_val_humor_ratings[haha_val_humor_ratings != -1], humor_ratings_pred, squared=False)\n",
        "    print(\"humor rating rmse:\", rmse)\n",
        "\n",
        "    # humor controversy f1 and acc\n",
        "    f1 = f1_score(haha_val_humor_controversy[haha_val_humor_controversy != -1], controversy_pred.argmax(axis=1))#, labels=[0, 1], average='macro')\n",
        "    acc = accuracy_score(haha_val_humor_controversy[haha_val_humor_controversy != -1], controversy_pred.argmax(axis=1))\n",
        "    print(\"humor controversy f1:\", f1, \"acc:\", acc)\n",
        "\n",
        "    # humor rating rmse\n",
        "    rmse = mean_squared_error(haha_val_off_ratings, off_pred, squared=False)\n",
        "    print(\"offense rating rmse:\", rmse)\n",
        "\n",
        "\n",
        "print(\"---------------------------------------\")\n",
        "print(\"ensemble by average\")\n",
        "\n",
        "ensemble_humor_pred = np.mean(all_humor_preds, axis=0).argmax(axis=1)\n",
        "ensemble_humor_ratings_pred = np.mean(all_humor_rating_preds, axis=0)\n",
        "ensemble_controversy_pred = np.mean(all_controversy_preds, axis=0).argmax(axis=1)\n",
        "ensemble_off_pred = np.mean(all_off_preds, axis=0)\n",
        "\n",
        "# print(ensemble_humor_pred)\n",
        "\n",
        "# humor f1 and acc\n",
        "f1 = f1_score(haha_val_humor_labels, ensemble_humor_pred)#, labels=[0, 1], average='macro')\n",
        "acc = accuracy_score(haha_val_humor_labels, ensemble_humor_pred)\n",
        "print(\"humor f1:\", f1, \"acc:\", acc)\n",
        "\n",
        "# humor rating rmse\n",
        "rmse = mean_squared_error(haha_val_humor_ratings[haha_val_humor_ratings != -1], ensemble_humor_ratings_pred, squared=False)\n",
        "print(\"humor rating rmse:\", rmse)\n",
        "\n",
        "# humor controversy f1 and acc\n",
        "f1 = f1_score(haha_val_humor_controversy[haha_val_humor_controversy != -1], ensemble_controversy_pred)#, labels=[0, 1], average='macro')\n",
        "acc = accuracy_score(haha_val_humor_controversy[haha_val_humor_controversy != -1], ensemble_controversy_pred)\n",
        "print(\"humor controversy f1:\", f1, \"acc:\", acc)\n",
        "\n",
        "# off rating rmse\n",
        "rmse = mean_squared_error(haha_val_off_ratings, ensemble_off_pred, squared=False)\n",
        "print(\"offense rating rmse:\", rmse)\n",
        "\n"
      ],
      "execution_count": 10,
      "outputs": [
        {
          "output_type": "stream",
          "text": [
            "---------------------------------------\n",
            "model: distilroberta-base\n",
            "humor f1: 0.9557157569515964 acc: 0.94625\n",
            "humor rating rmse: 0.4937631805909066\n",
            "humor controversy f1: 0.5641025641025642 acc: 0.5462012320328542\n",
            "offense rating rmse: 0.5745929256955549\n",
            "---------------------------------------\n",
            "model: distilbert-base-uncased\n",
            "humor f1: 0.9510204081632653 acc: 0.94\n",
            "humor rating rmse: 0.49102193094839003\n",
            "humor controversy f1: 0.5742574257425743 acc: 0.5585215605749486\n",
            "offense rating rmse: 0.546646087207522\n",
            "---------------------------------------\n",
            "model: roberta-large\n",
            "humor f1: 0.9703779366700716 acc: 0.96375\n",
            "humor rating rmse: 0.4831901750221726\n",
            "humor controversy f1: 0.5668662674650699 acc: 0.5544147843942505\n",
            "offense rating rmse: 0.5179990255854409\n",
            "---------------------------------------\n",
            "model: bert-large-uncased-whole-word-masking\n",
            "humor f1: 0.9602446483180428 acc: 0.95125\n",
            "humor rating rmse: 0.47893721441379267\n",
            "humor controversy f1: 0.570281124497992 acc: 0.5605749486652978\n",
            "offense rating rmse: 0.5432561492809618\n",
            "---------------------------------------\n",
            "model: albert-base-v2\n",
            "humor f1: 0.946938775510204 acc: 0.935\n",
            "humor rating rmse: 0.47892704629800653\n",
            "humor controversy f1: 0.5211864406779662 acc: 0.5359342915811088\n",
            "offense rating rmse: 0.573238823040564\n",
            "---------------------------------------\n",
            "model: roberta-base\n",
            "humor f1: 0.962962962962963 acc: 0.955\n",
            "humor rating rmse: 0.48778258377044886\n",
            "humor controversy f1: 0.5454545454545454 acc: 0.5379876796714579\n",
            "offense rating rmse: 0.5427850181404202\n",
            "---------------------------------------\n",
            "model: bert-base-uncased\n",
            "humor f1: 0.959917780061665 acc: 0.95125\n",
            "humor rating rmse: 0.5059399344805184\n",
            "humor controversy f1: 0.5528455284552846 acc: 0.5482546201232033\n",
            "offense rating rmse: 0.5370744648589542\n",
            "---------------------------------------\n",
            "ensemble by average\n",
            "humor f1: 0.9642492339121553 acc: 0.95625\n",
            "humor rating rmse: 0.4762963414622866\n",
            "humor controversy f1: 0.5546558704453441 acc: 0.5482546201232033\n",
            "offense rating rmse: 0.5208178540960803\n"
          ],
          "name": "stdout"
        }
      ]
    },
    {
      "cell_type": "markdown",
      "metadata": {
        "id": "PSMeXYcLUojN"
      },
      "source": [
        "Find best ensemble combination using only models trained only on the competition dataset."
      ]
    },
    {
      "cell_type": "code",
      "metadata": {
        "colab": {
          "base_uri": "https://localhost:8080/"
        },
        "id": "DgWXpXSX0lD7",
        "outputId": "542250d5-da68-460a-836d-3220e56be623"
      },
      "source": [
        "models = [\"distilroberta-base\", \"distilbert-base-uncased\", \"roberta-large\", \"bert-large-uncased-whole-word-masking\", \"albert-base-v2\", \"roberta-base\", \"bert-base-uncased\"]\n",
        "\n",
        "best_humor_f1 = (0, 0)\n",
        "best_humor_comb = None\n",
        "\n",
        "best_humor_rating_rmse = np.inf\n",
        "best_humor_rating_comb = None\n",
        "\n",
        "best_controversy_f1 = (0, 0)\n",
        "best_controversy_comb = None\n",
        "\n",
        "best_off_rmse = np.inf\n",
        "best_off_comb = None\n",
        "\n",
        "for comb in get_combinations(models):\n",
        "    all_humor_preds = []\n",
        "    all_humor_rating_preds = []\n",
        "    all_controversy_preds = []\n",
        "    all_off_preds = []\n",
        "    for m in comb:\n",
        "        # print(\"---------------------------------------\")\n",
        "        # print(\"model:\", m)\n",
        "        base_path = \"/content/drive/My Drive/Hahackathon/\"\n",
        "        humor_pred = np.load(base_path + m + \"_predictions_humor.npy\")\n",
        "        all_humor_preds.append(humor_pred)\n",
        "        humor_ratings_pred = np.load(base_path + m + \"_predictions_humor_rating.npy\")\n",
        "        all_humor_rating_preds.append(humor_ratings_pred)\n",
        "        controversy_pred = np.load(base_path + m + \"_predictions_humor_controversy.npy\")\n",
        "        all_controversy_preds.append(controversy_pred)\n",
        "        off_pred = np.load(base_path + m + \"_predictions_off.npy\")\n",
        "        all_off_preds.append(off_pred)\n",
        "\n",
        "        # humor f1 and acc\n",
        "        f1 = f1_score(haha_val_humor_labels, humor_pred.argmax(axis=1))#, labels=[0, 1], average='macro')\n",
        "        acc = accuracy_score(haha_val_humor_labels, humor_pred.argmax(axis=1))\n",
        "        # print(\"humor f1:\", f1, \"acc:\", acc)\n",
        "\n",
        "        # humor rating rmse\n",
        "        rmse = mean_squared_error(haha_val_humor_ratings[haha_val_humor_ratings != -1], humor_ratings_pred, squared=False)\n",
        "        # print(\"humor rating rmse:\", rmse)\n",
        "\n",
        "        # humor controversy f1 and acc\n",
        "        f1 = f1_score(haha_val_humor_controversy[haha_val_humor_controversy != -1], controversy_pred.argmax(axis=1))#, labels=[0, 1], average='macro')\n",
        "        acc = accuracy_score(haha_val_humor_controversy[haha_val_humor_controversy != -1], controversy_pred.argmax(axis=1))\n",
        "        # print(\"humor controversy f1:\", f1, \"acc:\", acc)\n",
        "\n",
        "        # humor rating rmse\n",
        "        rmse = mean_squared_error(haha_val_off_ratings, off_pred, squared=False)\n",
        "        # print(\"offense rating rmse:\", rmse)\n",
        "\n",
        "\n",
        "    # print(\"---------------------------------------\")\n",
        "    # print(\"ensemble by average\")\n",
        "\n",
        "    ensemble_humor_pred = np.mean(all_humor_preds, axis=0).argmax(axis=1)\n",
        "    ensemble_humor_ratings_pred = np.mean(all_humor_rating_preds, axis=0)\n",
        "    ensemble_controversy_pred = np.mean(all_controversy_preds, axis=0).argmax(axis=1)\n",
        "    ensemble_off_pred = np.mean(all_off_preds, axis=0)\n",
        "\n",
        "    # print(ensemble_humor_pred)\n",
        "\n",
        "    # humor f1 and acc\n",
        "    f1 = f1_score(haha_val_humor_labels, ensemble_humor_pred)#, labels=[0, 1], average='macro')\n",
        "    acc = accuracy_score(haha_val_humor_labels, ensemble_humor_pred)\n",
        "    # if f1 > best_humor_f1[0]:\n",
        "    if acc > best_humor_f1[1]:\n",
        "        best_humor_f1 = (f1, acc)\n",
        "        best_humor_comb = comb\n",
        "    # print(\"humor f1:\", f1, \"acc:\", acc)\n",
        "\n",
        "    # humor rating rmse\n",
        "    rmse = mean_squared_error(haha_val_humor_ratings[haha_val_humor_ratings != -1], ensemble_humor_ratings_pred, squared=False)\n",
        "    if rmse < best_humor_rating_rmse:\n",
        "        best_humor_rating_rmse = rmse\n",
        "        best_humor_rating_comb = comb\n",
        "    # print(\"humor rating rmse:\", rmse)\n",
        "\n",
        "    # humor controversy f1 and acc\n",
        "    f1 = f1_score(haha_val_humor_controversy[haha_val_humor_controversy != -1], ensemble_controversy_pred)#, labels=[0, 1], average='macro')\n",
        "    acc = accuracy_score(haha_val_humor_controversy[haha_val_humor_controversy != -1], ensemble_controversy_pred)\n",
        "    # if f1 > best_controversy_f1[0]:\n",
        "    if acc > best_controversy_f1[1]:\n",
        "        best_controversy_f1 = (f1, acc)\n",
        "        best_controversy_comb = comb\n",
        "    # print(\"humor controversy f1:\", f1, \"acc:\", acc)\n",
        "\n",
        "    # off rating rmse\n",
        "    rmse = mean_squared_error(haha_val_off_ratings, ensemble_off_pred, squared=False)\n",
        "    if rmse < best_off_rmse:\n",
        "        best_off_rmse = rmse\n",
        "        best_off_comb = comb\n",
        "    # print(\"offense rating rmse:\", rmse)\n",
        "\n",
        "\n",
        "print(\"humor f1:\", best_humor_f1[0], \"acc:\", best_humor_f1[1], \"comb:\", best_humor_comb)\n",
        "print(\"humor rating rmse:\", best_humor_rating_rmse, \"comb:\", best_humor_rating_comb)\n",
        "print(\"humor controversy f1:\", best_controversy_f1[0], \"acc:\", best_controversy_f1[1], \"comb:\", best_controversy_comb)\n",
        "print(\"offense rating rmse:\", best_off_rmse, \"comb:\", best_off_comb)\n",
        "\n",
        "generate_predictions(models, best_humor_comb, best_humor_rating_comb, best_controversy_comb, best_off_comb, \"/content/drive/My Drive/Hahackathon/best_competition_only_ensemble_out_dev_labels.csv\")"
      ],
      "execution_count": 36,
      "outputs": [
        {
          "output_type": "stream",
          "text": [
            "humor f1: 0.9703779366700716 acc: 0.96375 comb: ('roberta-large',)\n",
            "humor rating rmse: 0.47162433855132957 comb: ('bert-large-uncased-whole-word-masking', 'albert-base-v2', 'roberta-base')\n",
            "humor controversy f1: 0.5673469387755102 acc: 0.5646817248459959 comb: ('roberta-large', 'albert-base-v2', 'roberta-base')\n",
            "offense rating rmse: 0.5104206672819785 comb: ('roberta-large', 'bert-large-uncased-whole-word-masking')\n",
            "0 done\n",
            "100 done\n",
            "200 done\n",
            "300 done\n",
            "400 done\n",
            "500 done\n",
            "600 done\n",
            "700 done\n",
            "800 done\n",
            "900 done\n"
          ],
          "name": "stdout"
        }
      ]
    },
    {
      "cell_type": "code",
      "metadata": {
        "colab": {
          "base_uri": "https://localhost:8080/"
        },
        "id": "iqnsHlJrTzhY",
        "outputId": "421b3bc9-2c07-478f-95ce-6cd1527dba6e"
      },
      "source": [
        "generate_predictions(models, models, models, models, models, \"/content/drive/My Drive/Hahackathon/competition_only_ensemble_all_out_dev_labels.csv\")"
      ],
      "execution_count": 39,
      "outputs": [
        {
          "output_type": "stream",
          "text": [
            "0 done\n",
            "100 done\n",
            "200 done\n",
            "300 done\n",
            "400 done\n",
            "500 done\n",
            "600 done\n",
            "700 done\n",
            "800 done\n",
            "900 done\n"
          ],
          "name": "stdout"
        }
      ]
    },
    {
      "cell_type": "code",
      "metadata": {
        "colab": {
          "base_uri": "https://localhost:8080/"
        },
        "id": "vB7idSDGW3uY",
        "outputId": "b76d3ee4-2602-43ae-d226-043dbb6491e1"
      },
      "source": [
        "generate_simple_predictions(models, \"/content/drive/My Drive/Hahackathon/simple_baseline_out_dev_labels.csv\")"
      ],
      "execution_count": 41,
      "outputs": [
        {
          "output_type": "stream",
          "text": [
            "0 done\n",
            "100 done\n",
            "200 done\n",
            "300 done\n",
            "400 done\n",
            "500 done\n",
            "600 done\n",
            "700 done\n",
            "800 done\n",
            "900 done\n"
          ],
          "name": "stdout"
        }
      ]
    },
    {
      "cell_type": "markdown",
      "metadata": {
        "id": "arYGq9ngcgOp"
      },
      "source": [
        "Find best ensemble combination using only models with intermediate finetuning on 200k humor dataset:"
      ]
    },
    {
      "cell_type": "code",
      "metadata": {
        "colab": {
          "base_uri": "https://localhost:8080/"
        },
        "id": "n2k6apRHbkiP",
        "outputId": "ca0c8835-9997-497c-9904-532ee8f485bf"
      },
      "source": [
        "# models = [\"distilroberta-base\", \"distilbert-base-uncased\", \"roberta-large\", \"bert-large-uncased-whole-word-masking\", \"albert-base-v2\", \"roberta-base\", \"bert-base-uncased\"]\n",
        "\n",
        "pretrain_models = [m + \"pretrain_humor\" for m in models]\n",
        "\n",
        "best_humor_f1 = (0, 0)\n",
        "best_humor_comb = None\n",
        "\n",
        "best_humor_rating_rmse = np.inf\n",
        "best_humor_rating_comb = None\n",
        "\n",
        "best_controversy_f1 = (0, 0)\n",
        "best_controversy_comb = None\n",
        "\n",
        "best_off_rmse = np.inf\n",
        "best_off_comb = None\n",
        "\n",
        "for comb in get_combinations(pretrain_models):\n",
        "    all_humor_preds = []\n",
        "    all_humor_rating_preds = []\n",
        "    all_controversy_preds = []\n",
        "    all_off_preds = []\n",
        "    for m in comb:\n",
        "        # print(\"---------------------------------------\")\n",
        "        # print(\"model:\", m)\n",
        "        base_path = \"/content/drive/My Drive/Hahackathon/\"\n",
        "        humor_pred = np.load(base_path + m + \"_predictions_humor.npy\")\n",
        "        all_humor_preds.append(humor_pred)\n",
        "        humor_ratings_pred = np.load(base_path + m + \"_predictions_humor_rating.npy\")\n",
        "        all_humor_rating_preds.append(humor_ratings_pred)\n",
        "        controversy_pred = np.load(base_path + m + \"_predictions_humor_controversy.npy\")\n",
        "        all_controversy_preds.append(controversy_pred)\n",
        "        off_pred = np.load(base_path + m + \"_predictions_off.npy\")\n",
        "        all_off_preds.append(off_pred)\n",
        "\n",
        "        # humor f1 and acc\n",
        "        f1 = f1_score(haha_val_humor_labels, humor_pred.argmax(axis=1))#, labels=[0, 1], average='macro')\n",
        "        acc = accuracy_score(haha_val_humor_labels, humor_pred.argmax(axis=1))\n",
        "        # print(\"humor f1:\", f1, \"acc:\", acc)\n",
        "\n",
        "        # humor rating rmse\n",
        "        rmse = mean_squared_error(haha_val_humor_ratings[haha_val_humor_ratings != -1], humor_ratings_pred, squared=False)\n",
        "        # print(\"humor rating rmse:\", rmse)\n",
        "\n",
        "        # humor controversy f1 and acc\n",
        "        f1 = f1_score(haha_val_humor_controversy[haha_val_humor_controversy != -1], controversy_pred.argmax(axis=1))#, labels=[0, 1], average='macro')\n",
        "        acc = accuracy_score(haha_val_humor_controversy[haha_val_humor_controversy != -1], controversy_pred.argmax(axis=1))\n",
        "        # print(\"humor controversy f1:\", f1, \"acc:\", acc)\n",
        "\n",
        "        # humor rating rmse\n",
        "        rmse = mean_squared_error(haha_val_off_ratings, off_pred, squared=False)\n",
        "        # print(\"offense rating rmse:\", rmse)\n",
        "\n",
        "\n",
        "    # print(\"---------------------------------------\")\n",
        "    # print(\"ensemble by average\")\n",
        "\n",
        "    ensemble_humor_pred = np.mean(all_humor_preds, axis=0).argmax(axis=1)\n",
        "    ensemble_humor_ratings_pred = np.mean(all_humor_rating_preds, axis=0)\n",
        "    ensemble_controversy_pred = np.mean(all_controversy_preds, axis=0).argmax(axis=1)\n",
        "    ensemble_off_pred = np.mean(all_off_preds, axis=0)\n",
        "\n",
        "    # print(ensemble_humor_pred)\n",
        "\n",
        "    # humor f1 and acc\n",
        "    f1 = f1_score(haha_val_humor_labels, ensemble_humor_pred)#, labels=[0, 1], average='macro')\n",
        "    acc = accuracy_score(haha_val_humor_labels, ensemble_humor_pred)\n",
        "    # if f1 > best_humor_f1[0]:\n",
        "    if acc > best_humor_f1[1]:\n",
        "        best_humor_f1 = (f1, acc)\n",
        "        best_humor_comb = comb\n",
        "    # print(\"humor f1:\", f1, \"acc:\", acc)\n",
        "\n",
        "    # humor rating rmse\n",
        "    rmse = mean_squared_error(haha_val_humor_ratings[haha_val_humor_ratings != -1], ensemble_humor_ratings_pred, squared=False)\n",
        "    if rmse < best_humor_rating_rmse:\n",
        "        best_humor_rating_rmse = rmse\n",
        "        best_humor_rating_comb = comb\n",
        "    # print(\"humor rating rmse:\", rmse)\n",
        "\n",
        "    # humor controversy f1 and acc\n",
        "    f1 = f1_score(haha_val_humor_controversy[haha_val_humor_controversy != -1], ensemble_controversy_pred)#, labels=[0, 1], average='macro')\n",
        "    acc = accuracy_score(haha_val_humor_controversy[haha_val_humor_controversy != -1], ensemble_controversy_pred)\n",
        "    # if f1 > best_controversy_f1[0]:\n",
        "    if acc > best_controversy_f1[1]:\n",
        "        best_controversy_f1 = (f1, acc)\n",
        "        best_controversy_comb = comb\n",
        "    # print(\"humor controversy f1:\", f1, \"acc:\", acc)\n",
        "\n",
        "    # off rating rmse\n",
        "    rmse = mean_squared_error(haha_val_off_ratings, ensemble_off_pred, squared=False)\n",
        "    if rmse < best_off_rmse:\n",
        "        best_off_rmse = rmse\n",
        "        best_off_comb = comb\n",
        "    # print(\"offense rating rmse:\", rmse)\n",
        "\n",
        "\n",
        "print(\"humor f1:\", best_humor_f1[0], \"acc:\", best_humor_f1[1], \"comb:\", best_humor_comb)\n",
        "print(\"humor rating rmse:\", best_humor_rating_rmse, \"comb:\", best_humor_rating_comb)\n",
        "print(\"humor controversy f1:\", best_controversy_f1[0], \"acc:\", best_controversy_f1[1], \"comb:\", best_controversy_comb)\n",
        "print(\"offense rating rmse:\", best_off_rmse, \"comb:\", best_off_comb)\n",
        "\n",
        "generate_predictions(pretrain_models, best_humor_comb, best_humor_rating_comb, best_controversy_comb, best_off_comb, \"/content/drive/My Drive/Hahackathon/best_intermediate_finetuning_ensemble_out_dev_labels.csv\")"
      ],
      "execution_count": 37,
      "outputs": [
        {
          "output_type": "stream",
          "text": [
            "humor f1: 0.9610655737704918 acc: 0.9525 comb: ('distilroberta-basepretrain_humor', 'distilbert-base-uncasedpretrain_humor', 'bert-base-uncasedpretrain_humor')\n",
            "humor rating rmse: 0.4868539372163238 comb: ('distilbert-base-uncasedpretrain_humor', 'albert-base-v2pretrain_humor', 'bert-base-uncasedpretrain_humor')\n",
            "humor controversy f1: 0.6130268199233717 acc: 0.5852156057494866 comb: ('distilbert-base-uncasedpretrain_humor', 'roberta-largepretrain_humor', 'bert-large-uncased-whole-word-maskingpretrain_humor', 'albert-base-v2pretrain_humor', 'bert-base-uncasedpretrain_humor')\n",
            "offense rating rmse: 0.5635701393296539 comb: ('distilroberta-basepretrain_humor', 'distilbert-base-uncasedpretrain_humor', 'bert-base-uncasedpretrain_humor')\n",
            "0 done\n",
            "100 done\n",
            "200 done\n",
            "300 done\n",
            "400 done\n",
            "500 done\n",
            "600 done\n",
            "700 done\n",
            "800 done\n",
            "900 done\n"
          ],
          "name": "stdout"
        }
      ]
    },
    {
      "cell_type": "markdown",
      "metadata": {
        "id": "Uj3XhZTrcvWk"
      },
      "source": [
        "Find best ensemble combination using models with and without intermediate finetuning on 200k humor dataset."
      ]
    },
    {
      "cell_type": "code",
      "metadata": {
        "colab": {
          "base_uri": "https://localhost:8080/"
        },
        "id": "kmR5eXJ3cugT",
        "outputId": "b707d557-e420-4ea0-f415-3b89a36e25e8"
      },
      "source": [
        "# models = [\"distilroberta-base\", \"distilbert-base-uncased\", \"roberta-large\", \"bert-large-uncased-whole-word-masking\", \"albert-base-v2\", \"roberta-base\", \"bert-base-uncased\"]\n",
        "\n",
        "pretrain_models = [m + \"pretrain_humor\" for m in models]\n",
        "\n",
        "best_humor_f1 = (0, 0)\n",
        "best_humor_comb = None\n",
        "\n",
        "best_humor_rating_rmse = np.inf\n",
        "best_humor_rating_comb = None\n",
        "\n",
        "best_controversy_f1 = (0, 0)\n",
        "best_controversy_comb = None\n",
        "\n",
        "best_off_rmse = np.inf\n",
        "best_off_comb = None\n",
        "\n",
        "for comb in get_combinations(models + pretrain_models):\n",
        "    all_humor_preds = []\n",
        "    all_humor_rating_preds = []\n",
        "    all_controversy_preds = []\n",
        "    all_off_preds = []\n",
        "    for m in comb:\n",
        "        # print(\"---------------------------------------\")\n",
        "        # print(\"model:\", m)\n",
        "        base_path = \"/content/drive/My Drive/Hahackathon/\"\n",
        "        humor_pred = np.load(base_path + m + \"_predictions_humor.npy\")\n",
        "        all_humor_preds.append(humor_pred)\n",
        "        humor_ratings_pred = np.load(base_path + m + \"_predictions_humor_rating.npy\")\n",
        "        all_humor_rating_preds.append(humor_ratings_pred)\n",
        "        controversy_pred = np.load(base_path + m + \"_predictions_humor_controversy.npy\")\n",
        "        all_controversy_preds.append(controversy_pred)\n",
        "        off_pred = np.load(base_path + m + \"_predictions_off.npy\")\n",
        "        all_off_preds.append(off_pred)\n",
        "\n",
        "        # humor f1 and acc\n",
        "        f1 = f1_score(haha_val_humor_labels, humor_pred.argmax(axis=1))#, labels=[0, 1], average='macro')\n",
        "        acc = accuracy_score(haha_val_humor_labels, humor_pred.argmax(axis=1))\n",
        "        # print(\"humor f1:\", f1, \"acc:\", acc)\n",
        "\n",
        "        # humor rating rmse\n",
        "        rmse = mean_squared_error(haha_val_humor_ratings[haha_val_humor_ratings != -1], humor_ratings_pred, squared=False)\n",
        "        # print(\"humor rating rmse:\", rmse)\n",
        "\n",
        "        # humor controversy f1 and acc\n",
        "        f1 = f1_score(haha_val_humor_controversy[haha_val_humor_controversy != -1], controversy_pred.argmax(axis=1))#, labels=[0, 1], average='macro')\n",
        "        acc = accuracy_score(haha_val_humor_controversy[haha_val_humor_controversy != -1], controversy_pred.argmax(axis=1))\n",
        "        # print(\"humor controversy f1:\", f1, \"acc:\", acc)\n",
        "\n",
        "        # humor rating rmse\n",
        "        rmse = mean_squared_error(haha_val_off_ratings, off_pred, squared=False)\n",
        "        # print(\"offense rating rmse:\", rmse)\n",
        "\n",
        "\n",
        "    # print(\"---------------------------------------\")\n",
        "    # print(\"ensemble by average\")\n",
        "\n",
        "    ensemble_humor_pred = np.mean(all_humor_preds, axis=0).argmax(axis=1)\n",
        "    ensemble_humor_ratings_pred = np.mean(all_humor_rating_preds, axis=0)\n",
        "    ensemble_controversy_pred = np.mean(all_controversy_preds, axis=0).argmax(axis=1)\n",
        "    ensemble_off_pred = np.mean(all_off_preds, axis=0)\n",
        "\n",
        "    # print(ensemble_humor_pred)\n",
        "\n",
        "    # humor f1 and acc\n",
        "    f1 = f1_score(haha_val_humor_labels, ensemble_humor_pred)#, labels=[0, 1], average='macro')\n",
        "    acc = accuracy_score(haha_val_humor_labels, ensemble_humor_pred)\n",
        "    # if f1 > best_humor_f1[0]:\n",
        "    if acc > best_humor_f1[1]:\n",
        "        best_humor_f1 = (f1, acc)\n",
        "        best_humor_comb = comb\n",
        "    # print(\"humor f1:\", f1, \"acc:\", acc)\n",
        "\n",
        "    # humor rating rmse\n",
        "    rmse = mean_squared_error(haha_val_humor_ratings[haha_val_humor_ratings != -1], ensemble_humor_ratings_pred, squared=False)\n",
        "    if rmse < best_humor_rating_rmse:\n",
        "        best_humor_rating_rmse = rmse\n",
        "        best_humor_rating_comb = comb\n",
        "    # print(\"humor rating rmse:\", rmse)\n",
        "\n",
        "    # humor controversy f1 and acc\n",
        "    f1 = f1_score(haha_val_humor_controversy[haha_val_humor_controversy != -1], ensemble_controversy_pred)#, labels=[0, 1], average='macro')\n",
        "    acc = accuracy_score(haha_val_humor_controversy[haha_val_humor_controversy != -1], ensemble_controversy_pred)\n",
        "    # if f1 > best_controversy_f1[0]:\n",
        "    if acc > best_controversy_f1[1]:\n",
        "        best_controversy_f1 = (f1, acc)\n",
        "        best_controversy_comb = comb\n",
        "    # print(\"humor controversy f1:\", f1, \"acc:\", acc)\n",
        "\n",
        "    # off rating rmse\n",
        "    rmse = mean_squared_error(haha_val_off_ratings, ensemble_off_pred, squared=False)\n",
        "    if rmse < best_off_rmse:\n",
        "        best_off_rmse = rmse\n",
        "        best_off_comb = comb\n",
        "    # print(\"offense rating rmse:\", rmse)\n",
        "\n",
        "\n",
        "print(\"humor f1:\", best_humor_f1[0], \"acc:\", best_humor_f1[1], \"comb:\", best_humor_comb)\n",
        "print(\"humor rating rmse:\", best_humor_rating_rmse, \"comb:\", best_humor_rating_comb)\n",
        "print(\"humor controversy f1:\", best_controversy_f1[0], \"acc:\", best_controversy_f1[1], \"comb:\", best_controversy_comb)\n",
        "print(\"offense rating rmse:\", best_off_rmse, \"comb:\", best_off_comb)\n",
        "\n",
        "generate_predictions(models+pretrain_models, best_humor_comb, best_humor_rating_comb, best_controversy_comb, best_off_comb, \"/content/drive/My Drive/Hahackathon/best_finetuning_plus_competition_only_ensemble_out_dev_labels.csv\")"
      ],
      "execution_count": 38,
      "outputs": [
        {
          "output_type": "stream",
          "text": [
            "humor f1: 0.9703779366700716 acc: 0.96375 comb: ('roberta-large',)\n",
            "humor rating rmse: 0.47162433855132957 comb: ('bert-large-uncased-whole-word-masking', 'albert-base-v2', 'roberta-base')\n",
            "humor controversy f1: 0.5857740585774057 acc: 0.5934291581108829 comb: ('roberta-base', 'bert-base-uncased', 'roberta-largepretrain_humor', 'bert-base-uncasedpretrain_humor')\n",
            "offense rating rmse: 0.5104206672819785 comb: ('roberta-large', 'bert-large-uncased-whole-word-masking')\n",
            "0 done\n",
            "100 done\n",
            "200 done\n",
            "300 done\n",
            "400 done\n",
            "500 done\n",
            "600 done\n",
            "700 done\n",
            "800 done\n",
            "900 done\n"
          ],
          "name": "stdout"
        }
      ]
    },
    {
      "cell_type": "code",
      "metadata": {
        "colab": {
          "base_uri": "https://localhost:8080/",
          "height": 624
        },
        "id": "-aETNm5FONiM",
        "outputId": "c379e5ba-9c1f-4b82-f14c-a22397961e90"
      },
      "source": [
        "haha_train_sent_lengths = []\n",
        "\n",
        "for t in haha_train_texts:\n",
        "    haha_train_sent_lengths.append(len(t.split()))\n",
        "haha_train_sent_lengths = np.array(haha_train_sent_lengths)\n",
        "\n",
        "n, train_bins, _ = plt.hist(haha_train_sent_lengths, bins=10)\n",
        "plt.xlabel(\"Sentence length\")\n",
        "plt.ylabel(\"Count\")\n",
        "plt.title(\"All Haha train\")\n",
        "plt.show()\n",
        "print(\"Haha train sent lengths min:\", np.min(haha_train_sent_lengths), \"mean:\", np.mean(haha_train_sent_lengths), \"median:\", np.median(haha_train_sent_lengths), \"max:\", np.max(haha_train_sent_lengths))\n",
        "\n",
        "haha_val_sent_lengths = []\n",
        "\n",
        "for t in haha_val_texts:\n",
        "    haha_val_sent_lengths.append(len(t.split()))\n",
        "haha_val_sent_lengths = np.array(haha_val_sent_lengths)\n",
        "\n",
        "n, val_bins, _ = plt.hist(haha_val_sent_lengths, bins=10)\n",
        "plt.xlabel(\"Sentence length\")\n",
        "plt.ylabel(\"Count\")\n",
        "plt.title(\"All Haha val\")\n",
        "plt.show()\n",
        "print(\"Haha val sent lengths min:\", np.min(haha_val_sent_lengths), \"mean:\", np.mean(haha_val_sent_lengths), \"median:\", np.median(haha_val_sent_lengths), \"max:\", np.max(haha_val_sent_lengths))\n",
        "\n",
        "train_bins"
      ],
      "execution_count": 29,
      "outputs": [
        {
          "output_type": "display_data",
          "data": {
            "image/png": "[encoded data removed]",
            "text/plain": [
              "<Figure size 432x288 with 1 Axes>"
            ]
          },
          "metadata": {
            "tags": [],
            "needs_background": "light"
          }
        },
        {
          "output_type": "stream",
          "text": [
            "Haha train sent lengths min: 1 mean: 20.886805555555554 median: 19.0 max: 63\n"
          ],
          "name": "stdout"
        },
        {
          "output_type": "display_data",
          "data": {
            "image/png": "[encoded data removed]",
            "text/plain": [
              "<Figure size 432x288 with 1 Axes>"
            ]
          },
          "metadata": {
            "tags": [],
            "needs_background": "light"
          }
        },
        {
          "output_type": "stream",
          "text": [
            "Haha val sent lengths min: 3 mean: 20.9125 median: 19.0 max: 59\n"
          ],
          "name": "stdout"
        },
        {
          "output_type": "execute_result",
          "data": {
            "text/plain": [
              "array([ 1. ,  7.2, 13.4, 19.6, 25.8, 32. , 38.2, 44.4, 50.6, 56.8, 63. ])"
            ]
          },
          "metadata": {
            "tags": []
          },
          "execution_count": 29
        }
      ]
    },
    {
      "cell_type": "markdown",
      "metadata": {
        "id": "bqI3iHCJVAyM"
      },
      "source": [
        "Check for any difference in performance depending on text length. There does not seem to be a significant difference between models with and without intermediate finetuning."
      ]
    },
    {
      "cell_type": "code",
      "metadata": {
        "colab": {
          "base_uri": "https://localhost:8080/",
          "height": 1000
        },
        "id": "CNyUi0y_UQrQ",
        "outputId": "204af079-6954-42a9-e6f0-99c431b53332"
      },
      "source": [
        "all_humor_preds = []\n",
        "all_humor_rating_preds = []\n",
        "all_controversy_preds = []\n",
        "all_off_preds = []\n",
        "\n",
        "humor_sent_lengths = val_sent_lengths[haha_val_humor_ratings != -1]\n",
        "\n",
        "for m in models:\n",
        "    print(\"---------------------------------------\")\n",
        "    print(\"model:\", m)\n",
        "    base_path = \"/content/drive/My Drive/Hahackathon/\"\n",
        "    humor_pred = np.load(base_path + m + \"_predictions_humor.npy\")\n",
        "    all_humor_preds.append(humor_pred)\n",
        "    humor_ratings_pred = np.load(base_path + m + \"_predictions_humor_rating.npy\")\n",
        "    all_humor_rating_preds.append(humor_ratings_pred)\n",
        "    controversy_pred = np.load(base_path + m + \"_predictions_humor_controversy.npy\")\n",
        "    all_controversy_preds.append(controversy_pred)\n",
        "    off_pred = np.load(base_path + m + \"_predictions_off.npy\")\n",
        "    all_off_preds.append(off_pred)\n",
        "\n",
        "    bin_positions = []\n",
        "    humor_f1_per_bin = []\n",
        "    humor_acc_per_bin = []\n",
        "\n",
        "    humor_bin_positions = []\n",
        "\n",
        "    for b in range(1, len(val_bins)):\n",
        "        bin_min = val_bins[b-1]\n",
        "        bin_max = val_bins[b]\n",
        "        if b == len(val_bins) - 1:\n",
        "            bin_max += 1\n",
        "        bin_indices = (val_sent_lengths >= bin_min) & (val_sent_lengths < bin_max)\n",
        "        humor_bin_indices = (humor_sent_lengths >= bin_min) & (humor_sent_lengths < bin_max)\n",
        "\n",
        "        bin_position = (bin_max + bin_min) / 2\n",
        "\n",
        "        if np.sum(bin_indices) > 0:\n",
        "            bin_positions.append(bin_position)\n",
        "            # humor f1 and acc\n",
        "            f1 = f1_score(haha_val_humor_labels[bin_indices], humor_pred[bin_indices])#, labels=[0, 1], average='macro')\n",
        "            acc = accuracy_score(haha_val_humor_labels[bin_indices], humor_pred[bin_indices])\n",
        "            # print(\"humor f1:\", f1, \"acc:\", acc)\n",
        "            humor_f1_per_bin.append(f1)\n",
        "            humor_acc_per_bin.append(acc)\n",
        "\n",
        "            if np.sum(humor_bin_indices) > 0:\n",
        "                # humor rating rmse\n",
        "                rmse = mean_squared_error(haha_val_humor_ratings[haha_val_humor_ratings != -1][humor_bin_indices], humor_ratings_pred[humor_bin_indices], squared=False)\n",
        "                # print(\"humor rating rmse:\", rmse)\n",
        "\n",
        "                # humor controversy f1 and acc\n",
        "                f1 = f1_score(haha_val_humor_controversy[haha_val_humor_controversy != -1][humor_bin_indices], controversy_pred[humor_bin_indices])#, labels=[0, 1], average='macro')\n",
        "                acc = accuracy_score(haha_val_humor_controversy[haha_val_humor_controversy != -1][humor_bin_indices], controversy_pred[humor_bin_indices])\n",
        "                # print(\"humor controversy f1:\", f1, \"acc:\", acc)\n",
        "\n",
        "            # humor rating rmse\n",
        "            rmse = mean_squared_error(haha_val_off_ratings[bin_indices], off_pred[bin_indices], squared=False)\n",
        "            # print(\"offense rating rmse:\", rmse)\n",
        "\n",
        "    # print(bin_positions)\n",
        "    fig, ax1 = plt.subplots()\n",
        "    ax1.hist(haha_val_sent_lengths, bins=10)\n",
        "    ax1.set_xlabel(\"Sentence length\")\n",
        "    ax1.set_ylabel(\"Count\")\n",
        "\n",
        "    ax2 = ax1.twinx()\n",
        "    # ax2.plot(bin_positions, humor_f1_per_bin, label=\"F1\")\n",
        "    ax2.plot(bin_positions, humor_acc_per_bin, \"r\", label=\"ACC\")\n",
        "    # ax2.set_ylabel(\"Performance\")\n",
        "    ax2.set_ylabel(\"Accuracy\")\n",
        "\n",
        "    plt.title(\"Haha val set\")\n",
        "    fig.tight_layout()\n",
        "    # plt.legend()\n",
        "    plt.show()\n",
        "\n",
        "\n",
        "print(\"---------------------------------------\")\n",
        "print(\"ensemble by average\")\n",
        "\n",
        "ensemble_humor_pred = np.round(np.mean(all_humor_preds, axis=0))\n",
        "ensemble_humor_ratings_pred = np.mean(all_humor_rating_preds, axis=0)\n",
        "ensemble_controversy_pred = np.round(np.mean(all_controversy_preds, axis=0))\n",
        "ensemble_off_pred = np.mean(all_off_preds, axis=0)\n",
        "\n",
        "bin_positions = []\n",
        "humor_f1_per_bin = []\n",
        "humor_acc_per_bin = []\n",
        "\n",
        "humor_bin_positions = []\n",
        "\n",
        "# print(ensemble_humor_pred)\n",
        "for b in range(1, len(val_bins)):\n",
        "    bin_min = val_bins[b-1]\n",
        "    bin_max = val_bins[b]\n",
        "    if b == len(val_bins) - 1:\n",
        "        bin_max += 1\n",
        "    bin_indices = (val_sent_lengths >= bin_min) & (val_sent_lengths < bin_max)\n",
        "    humor_bin_indices = (humor_sent_lengths >= bin_min) & (humor_sent_lengths < bin_max)\n",
        "\n",
        "    bin_position = (bin_max + bin_min) / 2\n",
        "\n",
        "    if np.sum(bin_indices) > 0:\n",
        "        bin_positions.append(bin_position)\n",
        "        # humor f1 and acc\n",
        "        f1 = f1_score(haha_val_humor_labels[bin_indices], ensemble_humor_pred[bin_indices])#, labels=[0, 1], average='macro')\n",
        "        acc = accuracy_score(haha_val_humor_labels[bin_indices], ensemble_humor_pred[bin_indices])\n",
        "        print(\"humor f1:\", f1, \"acc:\", acc)\n",
        "        humor_f1_per_bin.append(f1)\n",
        "        humor_acc_per_bin.append(acc)\n",
        "\n",
        "        if np.sum(humor_bin_indices) > 0:\n",
        "            # humor rating rmse\n",
        "            rmse = mean_squared_error(haha_val_humor_ratings[haha_val_humor_ratings != -1][humor_bin_indices], ensemble_humor_ratings_pred[humor_bin_indices], squared=False)\n",
        "            print(\"humor rating rmse:\", rmse)\n",
        "\n",
        "            # humor controversy f1 and acc\n",
        "            f1 = f1_score(haha_val_humor_controversy[haha_val_humor_controversy != -1][humor_bin_indices], ensemble_controversy_pred[humor_bin_indices])#, labels=[0, 1], average='macro')\n",
        "            acc = accuracy_score(haha_val_humor_controversy[haha_val_humor_controversy != -1][humor_bin_indices], ensemble_controversy_pred[humor_bin_indices])\n",
        "            print(\"humor controversy f1:\", f1, \"acc:\", acc)\n",
        "\n",
        "        # humor rating rmse\n",
        "        rmse = mean_squared_error(haha_val_off_ratings[bin_indices], ensemble_off_pred[bin_indices], squared=False)\n",
        "        print(\"offense rating rmse:\", rmse)\n",
        "\n",
        "# print(bin_positions)\n",
        "fig, ax1 = plt.subplots()\n",
        "ax1.hist(haha_val_sent_lengths, bins=10)\n",
        "ax1.set_xlabel(\"Sentence length\")\n",
        "ax1.set_ylabel(\"Count\")\n",
        "\n",
        "ax2 = ax1.twinx()\n",
        "# ax2.plot(bin_positions, humor_f1_per_bin, label=\"F1\")\n",
        "ax2.plot(bin_positions, humor_acc_per_bin, \"r\", label=\"ACC\")\n",
        "# ax2.set_ylabel(\"Performance\")\n",
        "ax2.set_ylabel(\"Accuracy\")\n",
        "\n",
        "plt.title(\"Haha val set\")\n",
        "fig.tight_layout()\n",
        "# plt.legend()\n",
        "plt.show()"
      ],
      "execution_count": 47,
      "outputs": [
        {
          "output_type": "stream",
          "text": [
            "---------------------------------------\n",
            "model: distilroberta-base\n"
          ],
          "name": "stdout"
        },
        {
          "output_type": "stream",
          "text": [
            "/usr/local/lib/python3.6/dist-packages/sklearn/metrics/_classification.py:1515: UndefinedMetricWarning: F-score is ill-defined and being set to 0.0 due to no true nor predicted samples. Use `zero_division` parameter to control this behavior.\n",
            "  average, \"true nor predicted\", 'F-score is', len(true_sum)\n"
          ],
          "name": "stderr"
        },
        {
          "output_type": "display_data",
          "data": {
            "image/png": "[encoded data removed]",
            "text/plain": [
              "<Figure size 432x288 with 2 Axes>"
            ]
          },
          "metadata": {
            "tags": [],
            "needs_background": "light"
          }
        },
        {
          "output_type": "stream",
          "text": [
            "---------------------------------------\n",
            "model: distilbert-base-uncased\n"
          ],
          "name": "stdout"
        },
        {
          "output_type": "stream",
          "text": [
            "/usr/local/lib/python3.6/dist-packages/sklearn/metrics/_classification.py:1515: UndefinedMetricWarning: F-score is ill-defined and being set to 0.0 due to no true nor predicted samples. Use `zero_division` parameter to control this behavior.\n",
            "  average, \"true nor predicted\", 'F-score is', len(true_sum)\n"
          ],
          "name": "stderr"
        },
        {
          "output_type": "display_data",
          "data": {
            "image/png": "[encoded data removed]",
            "text/plain": [
              "<Figure size 432x288 with 2 Axes>"
            ]
          },
          "metadata": {
            "tags": [],
            "needs_background": "light"
          }
        },
        {
          "output_type": "stream",
          "text": [
            "---------------------------------------\n",
            "model: roberta-large\n"
          ],
          "name": "stdout"
        },
        {
          "output_type": "stream",
          "text": [
            "/usr/local/lib/python3.6/dist-packages/sklearn/metrics/_classification.py:1515: UndefinedMetricWarning: F-score is ill-defined and being set to 0.0 due to no true nor predicted samples. Use `zero_division` parameter to control this behavior.\n",
            "  average, \"true nor predicted\", 'F-score is', len(true_sum)\n"
          ],
          "name": "stderr"
        },
        {
          "output_type": "display_data",
          "data": {
            "image/png": "[encoded data removed]",
            "text/plain": [
              "<Figure size 432x288 with 2 Axes>"
            ]
          },
          "metadata": {
            "tags": [],
            "needs_background": "light"
          }
        },
        {
          "output_type": "stream",
          "text": [
            "---------------------------------------\n",
            "model: bert-large-uncased-whole-word-masking\n"
          ],
          "name": "stdout"
        },
        {
          "output_type": "stream",
          "text": [
            "/usr/local/lib/python3.6/dist-packages/sklearn/metrics/_classification.py:1515: UndefinedMetricWarning: F-score is ill-defined and being set to 0.0 due to no true nor predicted samples. Use `zero_division` parameter to control this behavior.\n",
            "  average, \"true nor predicted\", 'F-score is', len(true_sum)\n"
          ],
          "name": "stderr"
        },
        {
          "output_type": "display_data",
          "data": {
            "image/png": "[encoded data removed]",
            "text/plain": [
              "<Figure size 432x288 with 2 Axes>"
            ]
          },
          "metadata": {
            "tags": [],
            "needs_background": "light"
          }
        },
        {
          "output_type": "stream",
          "text": [
            "---------------------------------------\n",
            "model: albert-base-v2\n"
          ],
          "name": "stdout"
        },
        {
          "output_type": "display_data",
          "data": {
            "image/png": "[encoded data removed]",
            "text/plain": [
              "<Figure size 432x288 with 2 Axes>"
            ]
          },
          "metadata": {
            "tags": [],
            "needs_background": "light"
          }
        },
        {
          "output_type": "stream",
          "text": [
            "---------------------------------------\n",
            "model: roberta-base\n"
          ],
          "name": "stdout"
        },
        {
          "output_type": "stream",
          "text": [
            "/usr/local/lib/python3.6/dist-packages/sklearn/metrics/_classification.py:1515: UndefinedMetricWarning: F-score is ill-defined and being set to 0.0 due to no true nor predicted samples. Use `zero_division` parameter to control this behavior.\n",
            "  average, \"true nor predicted\", 'F-score is', len(true_sum)\n"
          ],
          "name": "stderr"
        },
        {
          "output_type": "display_data",
          "data": {
            "image/png": "[encoded data removed]",
            "text/plain": [
              "<Figure size 432x288 with 2 Axes>"
            ]
          },
          "metadata": {
            "tags": [],
            "needs_background": "light"
          }
        },
        {
          "output_type": "stream",
          "text": [
            "---------------------------------------\n",
            "model: bert-base-uncased\n"
          ],
          "name": "stdout"
        },
        {
          "output_type": "stream",
          "text": [
            "/usr/local/lib/python3.6/dist-packages/sklearn/metrics/_classification.py:1515: UndefinedMetricWarning: F-score is ill-defined and being set to 0.0 due to no true nor predicted samples. Use `zero_division` parameter to control this behavior.\n",
            "  average, \"true nor predicted\", 'F-score is', len(true_sum)\n"
          ],
          "name": "stderr"
        },
        {
          "output_type": "display_data",
          "data": {
            "image/png": "[encoded data removed]",
            "text/plain": [
              "<Figure size 432x288 with 2 Axes>"
            ]
          },
          "metadata": {
            "tags": [],
            "needs_background": "light"
          }
        },
        {
          "output_type": "stream",
          "text": [
            "---------------------------------------\n",
            "ensemble by average\n",
            "humor f1: 0.9473684210526316 acc: 0.9629629629629629\n",
            "humor rating rmse: 0.2675193767032353\n",
            "humor controversy f1: 0.4 acc: 0.4\n",
            "offense rating rmse: 0.43714806312569926\n",
            "humor f1: 0.9626865671641791 acc: 0.9476439790575916\n",
            "humor rating rmse: 0.46587387314220624\n",
            "humor controversy f1: 0.5826771653543307 acc: 0.5923076923076923\n",
            "offense rating rmse: 0.5504646563680508\n",
            "humor f1: 0.9652509652509652 acc: 0.9554455445544554\n",
            "humor rating rmse: 0.4853529879699658\n",
            "humor controversy f1: 0.5413533834586465 acc: 0.5271317829457365\n",
            "offense rating rmse: 0.6710398585299026\n",
            "humor f1: 0.9696969696969697 acc: 0.9633507853403142\n",
            "humor rating rmse: 0.44668731271888407\n",
            "humor controversy f1: 0.6016260162601625 acc: 0.5739130434782609\n",
            "offense rating rmse: 0.4541829283877847\n",
            "humor f1: 0.9375 acc: 0.925\n",
            "humor rating rmse: 0.5153418985739292\n",
            "humor controversy f1: 0.6086956521739131 acc: 0.64\n",
            "offense rating rmse: 0.368752446939389\n",
            "humor f1: 0.983050847457627 acc: 0.975\n",
            "humor rating rmse: 0.37808413167070853\n",
            "humor controversy f1: 0.6451612903225806 acc: 0.6206896551724138\n",
            "offense rating rmse: 0.3499635923115174\n",
            "humor f1: 0.962962962962963 acc: 0.96\n",
            "humor rating rmse: 0.5941865082684358\n",
            "humor controversy f1: 0.625 acc: 0.5384615384615384\n",
            "offense rating rmse: 0.36164774247266096\n",
            "humor f1: 0.8333333333333334 acc: 0.92\n",
            "humor rating rmse: 0.5262112875384133\n",
            "humor controversy f1: 0.0 acc: 0.3333333333333333\n",
            "offense rating rmse: 0.49589824695257784\n",
            "humor f1: 1.0 acc: 1.0\n",
            "humor rating rmse: 0.9007027491256947\n",
            "humor controversy f1: 0.4 acc: 0.4\n",
            "offense rating rmse: 0.18433981894906376\n",
            "humor f1: 0.0 acc: 1.0\n",
            "offense rating rmse: 1.1312915789854372\n"
          ],
          "name": "stdout"
        },
        {
          "output_type": "stream",
          "text": [
            "/usr/local/lib/python3.6/dist-packages/sklearn/metrics/_classification.py:1515: UndefinedMetricWarning: F-score is ill-defined and being set to 0.0 due to no true nor predicted samples. Use `zero_division` parameter to control this behavior.\n",
            "  average, \"true nor predicted\", 'F-score is', len(true_sum)\n"
          ],
          "name": "stderr"
        },
        {
          "output_type": "display_data",
          "data": {
            "image/png": "[encoded data removed]",
            "text/plain": [
              "<Figure size 432x288 with 2 Axes>"
            ]
          },
          "metadata": {
            "tags": [],
            "needs_background": "light"
          }
        }
      ]
    },
    {
      "cell_type": "code",
      "metadata": {
        "pycharm": {
          "is_executing": false,
          "name": "#%% code\n"
        },
        "id": "X2PoVAR78AE4",
        "colab": {
          "base_uri": "https://localhost:8080/",
          "height": 448
        },
        "outputId": "7b298526-e817-415a-9ad9-e8ea45fe287d"
      },
      "source": [
        "\n",
        "# train_file = \"/content/drive/My Drive/OLID/olid-training-v1.0.tsv\"\n",
        "# test_tweets = \"/content/drive/My Drive/OLID/testset-levela.tsv\"\n",
        "# test_labels = \"/content/drive/My Drive/OLID/labels-levela.csv\"\n",
        "\n",
        "# hatebase_file = \"/content/drive/My Drive/Hatebase/labeled_data.csv\"\n",
        "\n",
        "humor200k_train_file = \"/content/drive/My Drive/humor_200k/train.csv\"\n",
        "humor200k_dev_file = \"/content/drive/My Drive/humor_200k/dev.csv\"\n",
        "humor200k_test_file = \"/content/drive/My Drive/humor_200k/test.csv\"\n",
        "\n",
        "# print(\"reading csvs...\", flush=True)\n",
        "\n",
        "# train_df = pd.read_csv(train_file, sep=\"\\t\", encoding=\"utf-8\")\n",
        "# test_tweets_df = pd.read_csv(test_tweets, sep=\"\\t\", encoding=\"utf-8\")\n",
        "# test_labels_df = pd.read_csv(test_labels, names=[\"index\", \"label\"], encoding=\"utf-8\")\n",
        "\n",
        "# hatebase_df = pd.read_csv(hatebase_file)\n",
        "\n",
        "# print(\"splitting into train/val...\", flush=True)\n",
        "\n",
        "# train_texts, train_off_labels = list(train_df[\"tweet\"]), train_df[\"subtask_a\"]\n",
        "# test_texts, test_off_labels = list(test_tweets_df[\"tweet\"]), test_labels_df[\"label\"]\n",
        "\n",
        "# print(\"olid training size:\", len(train_texts), flush=True)\n",
        "# print(\"hatebase training size:\", len(hatebase_df[\"tweet\"]), flush=True)\n",
        "\n",
        "# # print(train_labels, flush=True)\n",
        "# # print(test_labels, flush=True)\n",
        "\n",
        "# train_off_labels = list(train_off_labels.replace(\"OFF\", 1).replace(\"NOT\", 0).astype('int32'))\n",
        "# test_off_labels = list(test_off_labels.replace(\"OFF\", 1).replace(\"NOT\", 0).astype('int32'))\n",
        "\n",
        "# # print(train_labels, flush=True)\n",
        "# # print(test_labels, flush=True)\n",
        "\n",
        "# NUM_LABELS = 2\n",
        "# train_texts = preprocess_texts(train_texts)\n",
        "# test_texts = preprocess_texts(test_texts)\n",
        "\n",
        "# train_texts, val_texts, train_off_labels, val_off_labels = train_test_split(train_texts, train_off_labels, test_size=.2)\n",
        "\n",
        "# hatebase_labels = list(hatebase_df[\"class\"].replace(0, 1).replace(2, 0))\n",
        "\n",
        "# train_texts += preprocess_texts(list(hatebase_df[\"tweet\"]))\n",
        "# train_off_labels += hatebase_labels\n",
        "\n",
        "# train_humor_labels = list(np.ones(len(train_off_labels)) * -1)\n",
        "# val_humor_labels = list(np.ones(len(val_off_labels)) * -1)\n",
        "# test_humor_labels = list(np.ones(len(test_off_labels)) * -1)\n",
        "\n",
        "# print(\"offensive only-- train size:\", len(train_texts), \"val size:\", len(val_texts), \"test size:\", len(test_texts))\n",
        "\n",
        "humor200k_train_df = pd.read_csv(humor200k_train_file, encoding=\"utf-8\")\n",
        "humor200k_dev_df = pd.read_csv(humor200k_dev_file, encoding=\"utf-8\")\n",
        "\n",
        "h200k_train_texts, h200k_train_humor_labels = list(humor200k_train_df[\"text\"]), np.array(humor200k_train_df['humor'].astype(int))\n",
        "h200k_val_texts, h200k_val_humor_labels = list(humor200k_dev_df[\"text\"]), np.array(humor200k_dev_df['humor'].astype(int))\n",
        "\n",
        "h200k_train_texts, h200k_val_texts, h200k_train_humor_labels, h200k_val_humor_labels = train_test_split(h200k_train_texts, h200k_train_humor_labels, test_size=.2)\n",
        "\n",
        "h200k_train_humor_ratings = np.ones(len(h200k_train_humor_labels)) * -1\n",
        "h200k_train_humor_controversy = np.ones(len(h200k_train_humor_labels)) * -1\n",
        "h200k_train_off_ratings = np.ones(len(h200k_train_humor_labels)) * -1\n",
        "h200k_val_humor_ratings = np.ones(len(h200k_val_humor_labels)) * -1\n",
        "h200k_val_humor_controversy = np.ones(len(h200k_val_humor_labels)) * -1\n",
        "h200k_val_off_ratings = np.ones(len(h200k_val_humor_labels)) * -1\n",
        "\n",
        "print(\"humor only-- train size:\", len(h200k_train_texts), \"val size:\", len(h200k_val_texts))\n",
        "\n",
        "\n",
        "print(\"encoding texts with pretrained tokenizer...\", flush=True)\n",
        "\n",
        "# h200k_train_encodings = tokenizer(h200k_train_texts, truncation=True, padding=True)\n",
        "# print(np.array(h200k_train_encodings['input_ids']) != 0)\n",
        "h200k_train_sent_lengths = np.sum(np.array(h200k_train_encodings['input_ids']) != tokenizer.pad_token_id, axis=1)\n",
        "plt.hist(h200k_train_sent_lengths, bins=20)\n",
        "plt.xlabel(\"Sentence length\")\n",
        "plt.ylabel(\"Count\")\n",
        "plt.title(\"All 200k humor\")\n",
        "plt.show()\n",
        "print(\"h200k sent lengths min:\", np.min(h200k_train_sent_lengths), \"mean:\", np.mean(h200k_train_sent_lengths), \"median:\", np.median(h200k_train_sent_lengths), \"max:\", np.max(h200k_train_sent_lengths))\n",
        "# h200k_val_encodings = tokenizer(h200k_val_texts, truncation=True, padding=True)\n",
        "\n",
        "# humor_train_dataset = HahaDataset(h200k_train_encodings, h200k_train_humor_labels, h200k_train_humor_ratings, h200k_train_humor_controversy, h200k_train_off_ratings)\n",
        "# humor_val_dataset = HahaDataset(h200k_val_encodings, h200k_val_humor_labels, h200k_val_humor_ratings, h200k_val_humor_controversy, h200k_val_off_ratings)\n",
        "\n",
        "# indices = list(range(len(h200k_train_humor_labels)))\n",
        "# np.random.shuffle(indices)\n",
        "# num_partitions = 5\n",
        "# partition_size = int(len(h200k_train_humor_labels) / num_partitions)\n",
        "# h200k_train_partitions = {}\n",
        "# for i in range(num_partitions):\n",
        "#     subset_indices = np.array(indices[i * partition_size: (i+1) * partition_size])\n",
        "#     subset_h200k_train_encodings = tokenizer(list(np.array(h200k_train_texts)[subset_indices]), truncation=True, padding=True)\n",
        "    \n",
        "#     subset_h200k_train_humor_labels = h200k_train_humor_labels[subset_indices]\n",
        "#     subset_h200k_train_humor_ratings = h200k_train_humor_ratings[subset_indices]\n",
        "#     subset_h200k_train_humor_controversy = h200k_train_humor_controversy[subset_indices]\n",
        "#     subset_h200k_train_off_ratings = h200k_train_off_ratings[subset_indices]\n",
        "\n",
        "#     h200k_train_partitions[i] = HahaDataset(subset_h200k_train_encodings, subset_h200k_train_humor_labels, subset_h200k_train_humor_ratings, subset_h200k_train_humor_controversy, subset_h200k_train_off_ratings)\n",
        "\n",
        "#     print(\"humor train partition\", i, \"size:\", len(h200k_train_partitions[i]))    \n",
        "# print(\"humor val size:\", len(humor_val_dataset))\n",
        "\n",
        "# train_texts += h200k_train_texts\n",
        "# val_texts += h200k_val_texts\n",
        "# test_texts += h200k_test_texts\n",
        "# train_off_labels += h200k_train_off_labels\n",
        "# val_off_labels += h200k_val_off_labels\n",
        "# test_off_labels += h200k_test_off_labels\n",
        "# train_humor_labels += h200k_train_humor_labels\n",
        "# val_humor_labels += h200k_val_humor_labels\n",
        "# test_humor_labels += h200k_test_humor_labels\n",
        "\n",
        "# print(\"combined-- train size:\", len(train_texts), \"val size:\", len(val_texts), \"test size:\", len(test_texts))\n",
        "\n",
        "# num_humor = np.sum(np.array(train_humor_labels) != -1)\n",
        "# num_off = np.sum(np.array(train_off_labels) != -1)\n",
        "\n",
        "# num_largest = np.max([num_humor, num_off])\n",
        "\n",
        "# if num_humor > 0:\n",
        "#     weight_humor = num_largest / num_humor\n",
        "# else:\n",
        "#     weight_humor = 0.0\n",
        "# if num_off > 0:\n",
        "#     weight_off = num_largest / num_off\n",
        "# else:\n",
        "#     weight_off = 0.0\n",
        "\n",
        "# print(\"number of train examples that have humor labels:\", num_humor)\n",
        "# print(\"number of train examples that have offensive labels:\", num_off)\n",
        "# print(\"weight for humor class:\", weight_humor)\n",
        "# print(\"weight for offensive class:\", weight_off)\n",
        "\n",
        "# print(\"encoding texts with pretrained tokenizer...\", flush=True)\n",
        "\n",
        "# train_encodings = tokenizer(train_texts, truncation=True, padding=True)\n",
        "# val_encodings = tokenizer(val_texts, truncation=True, padding=True)\n",
        "# test_encodings = tokenizer(test_texts, truncation=True, padding=True)\n",
        "\n",
        "# print(\"creating datasets...\", flush=True)\n",
        "\n",
        "# train_dataset = HahaDataset(train_encodings, train_off_labels, train_humor_labels)\n",
        "# val_dataset = HahaDataset(val_encodings, val_off_labels, val_humor_labels)\n",
        "# test_dataset = HahaDataset(test_encodings, test_off_labels, test_humor_labels)"
      ],
      "execution_count": null,
      "outputs": [
        {
          "output_type": "stream",
          "text": [
            "humor only-- train size: 128000 val size: 32000\n",
            "encoding texts with pretrained tokenizer...\n"
          ],
          "name": "stdout"
        },
        {
          "output_type": "display_data",
          "data": {
            "image/png": "[encoded data removed]",
            "text/plain": [
              "<Figure size 432x288 with 1 Axes>"
            ]
          },
          "metadata": {
            "tags": [],
            "needs_background": "light"
          }
        },
        {
          "output_type": "stream",
          "text": [
            "h200k sent lengths min: 10 mean: 17.9122578125 median: 17.0 max: 45\n",
            "humor train partition 0 size: 25600\n",
            "humor train partition 1 size: 25600\n",
            "humor train partition 2 size: 25600\n",
            "humor train partition 3 size: 25600\n",
            "humor train partition 4 size: 25600\n",
            "humor val size: 32000\n"
          ],
          "name": "stdout"
        }
      ]
    }
  ]
}