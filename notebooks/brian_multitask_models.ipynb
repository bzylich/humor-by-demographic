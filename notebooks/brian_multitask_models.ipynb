{
  "nbformat": 4,
  "nbformat_minor": 0,
  "metadata": {
    "kernelspec": {
      "display_name": "Python 3",
      "language": "python",
      "name": "python3"
    },
    "language_info": {
      "codemirror_mode": {
        "name": "ipython",
        "version": 3
      },
      "file_extension": ".py",
      "mimetype": "text/x-python",
      "name": "python",
      "nbconvert_exporter": "python",
      "pygments_lexer": "ipython3",
      "version": "3.7.4"
    },
    "pycharm": {
      "stem_cell": {
        "cell_type": "raw",
        "metadata": {
          "collapsed": false
        },
        "source": []
      }
    },
    "colab": {
      "name": "brian-multitask-models.ipynb",
      "provenance": [],
      "collapsed_sections": [],
      "machine_shape": "hm"
    },
    "accelerator": "GPU"
  },
  "cells": [
    {
      "cell_type": "markdown",
      "metadata": {
        "id": "_0XLiJDGXs_4"
      },
      "source": [
        "This notebook trains multitask models that learn to classify humor in a binary manner, predict how humorous text is, predict whether a humorous text is controversial, and predict how offensive text is- all simultaneously."
      ]
    },
    {
      "cell_type": "markdown",
      "metadata": {
        "id": "I35kpk5yX9GT"
      },
      "source": [
        "First, we load several libraries and import some data."
      ]
    },
    {
      "cell_type": "code",
      "metadata": {
        "pycharm": {
          "is_executing": false,
          "name": "#%% code\n"
        },
        "scrolled": true,
        "id": "fWbOQ6jV8AEz",
        "colab": {
          "base_uri": "https://localhost:8080/"
        },
        "outputId": "d0055eb3-3162-4c45-81ad-11e8bf30dacc"
      },
      "source": [
        "!pip install transformers"
      ],
      "execution_count": 1,
      "outputs": [
        {
          "output_type": "stream",
          "text": [
            "Requirement already satisfied: transformers in /usr/local/lib/python3.6/dist-packages (4.0.0)\n",
            "Requirement already satisfied: tokenizers==0.9.4 in /usr/local/lib/python3.6/dist-packages (from transformers) (0.9.4)\n",
            "Requirement already satisfied: filelock in /usr/local/lib/python3.6/dist-packages (from transformers) (3.0.12)\n",
            "Requirement already satisfied: dataclasses; python_version < \"3.7\" in /usr/local/lib/python3.6/dist-packages (from transformers) (0.8)\n",
            "Requirement already satisfied: numpy in /usr/local/lib/python3.6/dist-packages (from transformers) (1.18.5)\n",
            "Requirement already satisfied: tqdm>=4.27 in /usr/local/lib/python3.6/dist-packages (from transformers) (4.41.1)\n",
            "Requirement already satisfied: regex!=2019.12.17 in /usr/local/lib/python3.6/dist-packages (from transformers) (2019.12.20)\n",
            "Requirement already satisfied: requests in /usr/local/lib/python3.6/dist-packages (from transformers) (2.23.0)\n",
            "Requirement already satisfied: sacremoses in /usr/local/lib/python3.6/dist-packages (from transformers) (0.0.43)\n",
            "Requirement already satisfied: packaging in /usr/local/lib/python3.6/dist-packages (from transformers) (20.4)\n",
            "Requirement already satisfied: idna<3,>=2.5 in /usr/local/lib/python3.6/dist-packages (from requests->transformers) (2.10)\n",
            "Requirement already satisfied: urllib3!=1.25.0,!=1.25.1,<1.26,>=1.21.1 in /usr/local/lib/python3.6/dist-packages (from requests->transformers) (1.24.3)\n",
            "Requirement already satisfied: chardet<4,>=3.0.2 in /usr/local/lib/python3.6/dist-packages (from requests->transformers) (3.0.4)\n",
            "Requirement already satisfied: certifi>=2017.4.17 in /usr/local/lib/python3.6/dist-packages (from requests->transformers) (2020.11.8)\n",
            "Requirement already satisfied: six in /usr/local/lib/python3.6/dist-packages (from sacremoses->transformers) (1.15.0)\n",
            "Requirement already satisfied: click in /usr/local/lib/python3.6/dist-packages (from sacremoses->transformers) (7.1.2)\n",
            "Requirement already satisfied: joblib in /usr/local/lib/python3.6/dist-packages (from sacremoses->transformers) (0.17.0)\n",
            "Requirement already satisfied: pyparsing>=2.0.2 in /usr/local/lib/python3.6/dist-packages (from packaging->transformers) (2.4.7)\n"
          ],
          "name": "stdout"
        }
      ]
    },
    {
      "cell_type": "code",
      "metadata": {
        "pycharm": {
          "is_executing": false,
          "name": "#%% code\n"
        },
        "id": "FE9TzkSZ8AE1"
      },
      "source": [
        "from sklearn.model_selection import train_test_split\n",
        "from sklearn.metrics import roc_auc_score, f1_score, mean_squared_error, accuracy_score\n",
        "from transformers import AutoConfig, AutoTokenizer, AutoModelForSequenceClassification, AutoModel, AdamW, get_linear_schedule_with_warmup, pipeline\n",
        "import torch\n",
        "import pandas as pd\n",
        "import argparse\n",
        "from torch.utils.data import DataLoader\n",
        "import torch.nn.functional as F\n",
        "import numpy as np\n",
        "import matplotlib.pyplot as plt\n",
        "import pickle\n",
        "\n",
        "# sentiment = pipeline(\"sentiment-analysis\")"
      ],
      "execution_count": 2,
      "outputs": []
    },
    {
      "cell_type": "markdown",
      "metadata": {
        "id": "K0WULT9WYGSm"
      },
      "source": [
        "We use Google Drive for storing/retrieving data files, so they must be in the appropriate file structure within Drive for this code to work."
      ]
    },
    {
      "cell_type": "code",
      "metadata": {
        "id": "mFUbRZPkA5Fi",
        "colab": {
          "base_uri": "https://localhost:8080/"
        },
        "outputId": "b60fc12e-dbd0-4555-e9f5-bc9f12e5a29f"
      },
      "source": [
        "from google.colab import drive\n",
        "drive.mount('/content/drive', force_remount=True)"
      ],
      "execution_count": 3,
      "outputs": [
        {
          "output_type": "stream",
          "text": [
            "Mounted at /content/drive\n"
          ],
          "name": "stdout"
        }
      ]
    },
    {
      "cell_type": "markdown",
      "metadata": {
        "id": "V8yXKX7aYKbO"
      },
      "source": [
        "Here we define a dataset class for the multitask version of the competition."
      ]
    },
    {
      "cell_type": "code",
      "metadata": {
        "pycharm": {
          "is_executing": false,
          "name": "#%% code\n"
        },
        "id": "jVYUxTm08AE-"
      },
      "source": [
        "class HahaDataset(torch.utils.data.Dataset):\n",
        "    def __init__(self, encodings, humor_labels, humor_ratings, humor_controversy, off_ratings):\n",
        "        self.encodings = encodings\n",
        "        self.humor_labels = humor_labels\n",
        "        self.humor_ratings = humor_ratings\n",
        "        self.humor_controversy = humor_controversy\n",
        "        self.off_ratings = off_ratings\n",
        "\n",
        "    def __getitem__(self, idx):\n",
        "        item = {key: torch.tensor(val[idx]) for key, val in self.encodings.items()}\n",
        "        item['humor_labels'] = torch.tensor(self.humor_labels[idx])\n",
        "        item['humor_ratings'] = torch.tensor(self.humor_ratings[idx])\n",
        "        item['humor_controversy'] = torch.tensor(self.humor_controversy[idx])\n",
        "        item['off_ratings'] = torch.tensor(self.off_ratings[idx])\n",
        "        \n",
        "        return item\n",
        "\n",
        "    def __len__(self):\n",
        "        return len(self.humor_labels)\n"
      ],
      "execution_count": 5,
      "outputs": []
    },
    {
      "cell_type": "markdown",
      "metadata": {
        "id": "3zkomvUFYTyz"
      },
      "source": [
        "Load the competition data and compute some simple statistics and baselines."
      ]
    },
    {
      "cell_type": "code",
      "metadata": {
        "id": "47qznexsS7ve",
        "colab": {
          "base_uri": "https://localhost:8080/",
          "height": 1000
        },
        "outputId": "aaa18dfa-51bb-4c58-dc87-2fcd6798ad30"
      },
      "source": [
        "hahackathon_file = \"/content/drive/My Drive/Hahackathon/train.csv\"\n",
        "hahackathon_df = pd.read_csv(hahackathon_file, encoding=\"utf-8\")\n",
        "\n",
        "hahackathon_texts = list(hahackathon_df[\"text\"])\n",
        "hahackathon_off_ratings = list(hahackathon_df[\"offense_rating\"])\n",
        "hahackathon_humor_labels = list(hahackathon_df[\"is_humor\"])\n",
        "hahackathon_humor_ratings = list(hahackathon_df[\"humor_rating\"].fillna(value=-1))\n",
        "hahackathon_controversy_labels = list(hahackathon_df[\"humor_controversy\"].fillna(value=-1))\n",
        "\n",
        "num_total = len(hahackathon_humor_labels)\n",
        "print(\"num examples:\", num_total)\n",
        "num_humorous = np.sum(np.array(hahackathon_humor_labels) == 1)\n",
        "print(\"num humor:\", num_humorous, \"num not humor:\", num_total - num_humorous)\n",
        "majority_class_humor = np.max([num_humorous, num_total - num_humorous]) / num_total\n",
        "majority_class_humor_f1 = f1_score(np.array(hahackathon_humor_labels), np.ones(num_total))#, labels=[0,1], average='macro')\n",
        "print(\"humor label majority class f1:\", majority_class_humor_f1, \"humor label majority class accuracy:\", majority_class_humor)\n",
        "\n",
        "humor_controversy_minus_nan = np.array(hahackathon_controversy_labels)\n",
        "humor_controversy_minus_nan = humor_controversy_minus_nan[humor_controversy_minus_nan != -1]\n",
        "print(\"num examples with humor controversy:\", len(humor_controversy_minus_nan))\n",
        "num_controversial = np.sum(humor_controversy_minus_nan == 1)\n",
        "print(\"num controversial:\", num_controversial, \"num not controversial:\", len(humor_controversy_minus_nan) - num_controversial)\n",
        "majority_class_controversial = np.max([num_controversial, len(humor_controversy_minus_nan) - num_controversial]) / len(humor_controversy_minus_nan)\n",
        "majority_class_controversial_f1 = f1_score(np.array(humor_controversy_minus_nan), np.zeros(len(humor_controversy_minus_nan)))#, labels=[0,1], average='macro')\n",
        "print(\"humor controversy majority class f1:\", majority_class_controversial_f1, \"humor controversy majority class accuracy:\", majority_class_controversial)\n",
        "\n",
        "humor_ratings_minus_nan = np.array(hahackathon_humor_ratings)\n",
        "humor_ratings_minus_nan = humor_ratings_minus_nan[humor_ratings_minus_nan != -1]\n",
        "print(\"num examples with humor ratings:\", len(humor_ratings_minus_nan))\n",
        "print(\"humor ratings -- min:\", np.min(humor_ratings_minus_nan), \"median:\", np.median(humor_ratings_minus_nan), \"mean:\", np.mean(humor_ratings_minus_nan), \"max:\", np.max(humor_ratings_minus_nan))\n",
        "humor_ratings_mean_rmse = mean_squared_error(humor_ratings_minus_nan, np.ones_like(humor_ratings_minus_nan) * np.mean(humor_ratings_minus_nan), squared=False)\n",
        "humor_ratings_median_rmse = mean_squared_error(humor_ratings_minus_nan, np.ones_like(humor_ratings_minus_nan) * np.median(humor_ratings_minus_nan), squared=False)\n",
        "print(\"humor ratings mean rmse:\", humor_ratings_mean_rmse, \"humor ratings median rmse:\", humor_ratings_median_rmse)\n",
        "\n",
        "plt.hist(humor_ratings_minus_nan, bins = 10)\n",
        "plt.xlabel(\"Humor Rating\")\n",
        "plt.ylabel(\"Examples\")\n",
        "plt.show()\n",
        "\n",
        "humor_controversial = humor_ratings_minus_nan[humor_controversy_minus_nan == 1]\n",
        "print(\"humor ratings (controversial) -- min:\", np.min(humor_controversial), \"median:\", np.median(humor_controversial), \"mean:\", np.mean(humor_controversial), \"max:\", np.max(humor_controversial))\n",
        "\n",
        "plt.hist(humor_controversial, bins = 10)\n",
        "plt.title(\"Humor ratings (controversial)\")\n",
        "plt.xlabel(\"Humor Rating\")\n",
        "plt.ylabel(\"Examples\")\n",
        "plt.show()\n",
        "\n",
        "humor_not_controversial = humor_ratings_minus_nan[humor_controversy_minus_nan == 0]\n",
        "print(\"humor ratings (not controversial) -- min:\", np.min(humor_not_controversial), \"median:\", np.median(humor_not_controversial), \"mean:\", np.mean(humor_not_controversial), \"max:\", np.max(humor_not_controversial))\n",
        "\n",
        "plt.hist(humor_not_controversial, bins = 10)\n",
        "plt.title(\"Humor ratings (not controversial)\")\n",
        "plt.xlabel(\"Humor Rating\")\n",
        "plt.ylabel(\"Examples\")\n",
        "plt.show()\n",
        "\n",
        "print(\"off ratings -- min:\", np.min(hahackathon_off_ratings), \"median:\", np.median(hahackathon_off_ratings), \"mean:\", np.mean(hahackathon_off_ratings), \"max:\", np.max(hahackathon_off_ratings))\n",
        "off_ratings_mean_rmse = mean_squared_error(hahackathon_off_ratings, np.ones_like(hahackathon_off_ratings) * np.mean(hahackathon_off_ratings), squared=False)\n",
        "off_ratings_median_rmse = mean_squared_error(hahackathon_off_ratings, np.ones_like(hahackathon_off_ratings) * np.median(hahackathon_off_ratings), squared=False)\n",
        "print(\"off ratings mean rmse:\", off_ratings_mean_rmse, \"off ratings median rmse:\", off_ratings_median_rmse)\n",
        "\n",
        "plt.hist(hahackathon_off_ratings, bins = 10)\n",
        "plt.xlabel(\"Offense Rating\")\n",
        "plt.ylabel(\"Examples\")\n",
        "plt.show()\n",
        "\n",
        "off_humorous = np.array(hahackathon_off_ratings)[np.array(hahackathon_humor_labels) == 1]\n",
        "print(\"off ratings (humorous) -- min:\", np.min(off_humorous), \"median:\", np.median(off_humorous), \"mean:\", np.mean(off_humorous), \"max:\", np.max(off_humorous))\n",
        "\n",
        "plt.hist(off_humorous, bins = 10)\n",
        "plt.title(\"Offense ratings (humorous)\")\n",
        "plt.xlabel(\"Offense Rating\")\n",
        "plt.ylabel(\"Examples\")\n",
        "plt.show()\n",
        "\n",
        "off_not_humorous = np.array(hahackathon_off_ratings)[np.array(hahackathon_humor_labels) == 0]\n",
        "print(\"off ratings (not humorous) -- min:\", np.min(off_not_humorous), \"median:\", np.median(off_not_humorous), \"mean:\", np.mean(off_not_humorous), \"max:\", np.max(off_not_humorous))\n",
        "\n",
        "plt.hist(off_not_humorous, bins = 10)\n",
        "plt.title(\"Offense ratings (not humorous)\")\n",
        "plt.xlabel(\"Offense Rating\")\n",
        "plt.ylabel(\"Examples\")\n",
        "plt.show()"
      ],
      "execution_count": 7,
      "outputs": [
        {
          "output_type": "stream",
          "text": [
            "num examples: 8000\n",
            "num humor: 4932 num not humor: 3068\n",
            "humor label majority class f1: 0.7627590473244664 humor label majority class accuracy: 0.6165\n",
            "num examples with humor controversy: 4932\n",
            "num controversial: 2465 num not controversial: 2467\n",
            "humor controversy majority class f1: 0.0 humor controversy majority class accuracy: 0.5002027575020276\n",
            "num examples with humor ratings: 4932\n",
            "humor ratings -- min: 0.1 median: 2.28 mean: 2.2605251419302514 max: 4.0\n",
            "humor ratings mean rmse: 0.5669164577335435 humor ratings median rmse: 0.567250861741069\n"
          ],
          "name": "stdout"
        },
        {
          "output_type": "display_data",
          "data": {
            "image/png": "[encoded data removed]",
            "text/plain": [
              "<Figure size 432x288 with 1 Axes>"
            ]
          },
          "metadata": {
            "tags": [],
            "needs_background": "light"
          }
        },
        {
          "output_type": "stream",
          "text": [
            "humor ratings (controversial) -- min: 0.45 median: 2.37 mean: 2.3590101419878295 max: 3.68\n"
          ],
          "name": "stdout"
        },
        {
          "output_type": "display_data",
          "data": {
            "image/png": "[encoded data removed]",
            "text/plain": [
              "<Figure size 432x288 with 1 Axes>"
            ]
          },
          "metadata": {
            "tags": [],
            "needs_background": "light"
          }
        },
        {
          "output_type": "stream",
          "text": [
            "humor ratings (not controversial) -- min: 0.1 median: 2.15 mean: 2.1621199837859746 max: 4.0\n"
          ],
          "name": "stdout"
        },
        {
          "output_type": "display_data",
          "data": {
            "image/png": "[encoded data removed]",
            "text/plain": [
              "<Figure size 432x288 with 1 Axes>"
            ]
          },
          "metadata": {
            "tags": [],
            "needs_background": "light"
          }
        },
        {
          "output_type": "stream",
          "text": [
            "off ratings -- min: 0.0 median: 0.1 mean: 0.5853250000000001 max: 4.85\n",
            "off ratings mean rmse: 0.9798939454731823 off ratings median rmse: 1.0934955418290466\n"
          ],
          "name": "stdout"
        },
        {
          "output_type": "display_data",
          "data": {
            "image/png": "[encoded data removed]",
            "text/plain": [
              "<Figure size 432x288 with 1 Axes>"
            ]
          },
          "metadata": {
            "tags": [],
            "needs_background": "light"
          }
        },
        {
          "output_type": "stream",
          "text": [
            "off ratings (humorous) -- min: 0.0 median: 0.35 mean: 0.8987226277372263 max: 4.85\n"
          ],
          "name": "stdout"
        },
        {
          "output_type": "display_data",
          "data": {
            "image/png": "[encoded data removed]",
            "text/plain": [
              "<Figure size 432x288 with 1 Axes>"
            ]
          },
          "metadata": {
            "tags": [],
            "needs_background": "light"
          }
        },
        {
          "output_type": "stream",
          "text": [
            "off ratings (not humorous) -- min: 0.0 median: 0.0 mean: 0.08151890482398957 max: 3.65\n"
          ],
          "name": "stdout"
        },
        {
          "output_type": "display_data",
          "data": {
            "image/png": "[encoded data removed]",
            "text/plain": [
              "<Figure size 432x288 with 1 Axes>"
            ]
          },
          "metadata": {
            "tags": [],
            "needs_background": "light"
          }
        }
      ]
    },
    {
      "cell_type": "markdown",
      "metadata": {
        "id": "Bhq4Ih-aYZvf"
      },
      "source": [
        "Next, load the Huggingface tokenizer based on the model that we want to run, usually DistilBERT for fast iteration."
      ]
    },
    {
      "cell_type": "code",
      "metadata": {
        "pycharm": {
          "is_executing": false,
          "name": "#%% code\n"
        },
        "id": "8y82fmb_8AE7",
        "colab": {
          "base_uri": "https://localhost:8080/"
        },
        "outputId": "981bd8b4-d576-414a-e4c3-fe7804f471bf"
      },
      "source": [
        "print(\"loading pretrained tokenizer...\", flush=True)\n",
        "model_name = 'distilbert-base-uncased'\n",
        "# model_name = 'bert-base-uncased'\n",
        "tokenizer = AutoTokenizer.from_pretrained(model_name)\n"
      ],
      "execution_count": 8,
      "outputs": [
        {
          "output_type": "stream",
          "text": [
            "loading pretrained tokenizer...\n"
          ],
          "name": "stdout"
        }
      ]
    },
    {
      "cell_type": "markdown",
      "metadata": {
        "id": "nlCZ3QE2Yj0_"
      },
      "source": [
        "Set the hyperparameters."
      ]
    },
    {
      "cell_type": "code",
      "metadata": {
        "pycharm": {
          "is_executing": false
        },
        "id": "niYFrBb88AFB"
      },
      "source": [
        "BATCH_SIZE = 10\n",
        "EFFECTIVE_BATCH_SIZE = BATCH_SIZE\n",
        "LEARNING_RATE = 5e-5\n",
        "NUM_EPOCHS = 3\n",
        "num_warmup_steps = 500\n",
        "weight_decay = 0.01\n",
        "\n",
        "batches_in_effective_batch = int(EFFECTIVE_BATCH_SIZE / BATCH_SIZE)"
      ],
      "execution_count": 9,
      "outputs": []
    },
    {
      "cell_type": "markdown",
      "metadata": {
        "id": "e3RI88dmYo1j"
      },
      "source": [
        "Load data partitions and create the internal train and validation datasets using our custom Pytorch dataset class."
      ]
    },
    {
      "cell_type": "code",
      "metadata": {
        "id": "dXaRirLhzC44",
        "colab": {
          "base_uri": "https://localhost:8080/",
          "height": 641
        },
        "outputId": "45950243-23e3-4952-e063-6d5c999dfa2b"
      },
      "source": [
        "hahackathon_train_file = \"/content/drive/My Drive/Hahackathon/internal_split/train_90.csv\"\n",
        "hahackathon_train_df = pd.read_csv(hahackathon_train_file, encoding=\"utf-8\")\n",
        "\n",
        "haha_train_texts = list(hahackathon_train_df[\"text\"])\n",
        "haha_train_off_ratings = list(hahackathon_train_df[\"offense_rating\"])\n",
        "haha_train_humor_labels = list(hahackathon_train_df[\"is_humor\"])\n",
        "haha_train_humor_ratings = list(hahackathon_train_df[\"humor_rating\"].fillna(value=-1))\n",
        "haha_train_humor_controversy = list(hahackathon_train_df[\"humor_controversy\"].fillna(value=-1))\n",
        "haha_train_encodings = tokenizer(haha_train_texts, truncation=True, padding=True)\n",
        "\n",
        "print(\"pad token id:\", tokenizer.pad_token_id)\n",
        "\n",
        "haha_train_sent_lengths = np.sum(np.array(haha_train_encodings['input_ids']) != tokenizer.pad_token_id, axis=1)\n",
        "plt.hist(haha_train_sent_lengths, bins=20)\n",
        "plt.xlabel(\"Sentence length\")\n",
        "plt.ylabel(\"Count\")\n",
        "plt.title(\"All Haha train\")\n",
        "plt.show()\n",
        "print(\"Haha train sent lengths min:\", np.min(haha_train_sent_lengths), \"mean:\", np.mean(haha_train_sent_lengths), \"median:\", np.median(haha_train_sent_lengths), \"max:\", np.max(haha_train_sent_lengths))\n",
        "\n",
        "hahackathon_val_file = \"/content/drive/My Drive/Hahackathon/internal_split/test_10.csv\"\n",
        "hahackathon_val_df = pd.read_csv(hahackathon_val_file, encoding=\"utf-8\")\n",
        "\n",
        "haha_val_texts = list(hahackathon_val_df[\"text\"])\n",
        "haha_val_off_ratings = list(hahackathon_val_df[\"offense_rating\"])\n",
        "haha_val_humor_labels = list(hahackathon_val_df[\"is_humor\"])\n",
        "haha_val_humor_ratings = list(hahackathon_val_df[\"humor_rating\"].fillna(value=-1))\n",
        "haha_val_humor_controversy = list(hahackathon_val_df[\"humor_controversy\"].fillna(value=-1))\n",
        "haha_val_encodings = tokenizer(haha_val_texts, truncation=True, padding=True)\n",
        "\n",
        "haha_val_sent_lengths = np.sum(np.array(haha_val_encodings['input_ids']) != tokenizer.pad_token_id, axis=1)\n",
        "plt.hist(haha_val_sent_lengths, bins=20)\n",
        "plt.xlabel(\"Sentence length\")\n",
        "plt.ylabel(\"Count\")\n",
        "plt.title(\"All Haha val\")\n",
        "plt.show()\n",
        "print(\"Haha train sent lengths min:\", np.min(haha_val_sent_lengths), \"mean:\", np.mean(haha_val_sent_lengths), \"median:\", np.median(haha_val_sent_lengths), \"max:\", np.max(haha_val_sent_lengths))\n",
        "\n",
        "haha_train_dataset = HahaDataset(haha_train_encodings, haha_train_humor_labels, haha_train_humor_ratings, haha_train_humor_controversy, haha_train_off_ratings)\n",
        "haha_train_loader = DataLoader(haha_train_dataset, batch_size=BATCH_SIZE, shuffle=True)\n",
        "haha_val_dataset = HahaDataset(haha_val_encodings, haha_val_humor_labels, haha_val_humor_ratings, haha_val_humor_controversy, haha_val_off_ratings)\n",
        "haha_val_loader = DataLoader(haha_val_dataset, batch_size=BATCH_SIZE)\n",
        "\n",
        "print(\"train size:\", len(haha_train_dataset), \"val size:\", len(haha_val_dataset))\n"
      ],
      "execution_count": 10,
      "outputs": [
        {
          "output_type": "stream",
          "text": [
            "pad token id: 0\n"
          ],
          "name": "stdout"
        },
        {
          "output_type": "display_data",
          "data": {
            "image/png": "[encoded data removed]",
            "text/plain": [
              "<Figure size 432x288 with 1 Axes>"
            ]
          },
          "metadata": {
            "tags": [],
            "needs_background": "light"
          }
        },
        {
          "output_type": "stream",
          "text": [
            "Haha train sent lengths min: 4 mean: 29.400555555555556 median: 27.0 max: 87\n"
          ],
          "name": "stdout"
        },
        {
          "output_type": "display_data",
          "data": {
            "image/png": "[encoded data removed]",
            "text/plain": [
              "<Figure size 432x288 with 1 Axes>"
            ]
          },
          "metadata": {
            "tags": [],
            "needs_background": "light"
          }
        },
        {
          "output_type": "stream",
          "text": [
            "Haha train sent lengths min: 6 mean: 29.645 median: 27.0 max: 136\n",
            "train size: 7200 val size: 800\n"
          ],
          "name": "stdout"
        }
      ]
    },
    {
      "cell_type": "markdown",
      "metadata": {
        "id": "hs1whwU3YvrV"
      },
      "source": [
        "Define a function that consumes a batch from our custom dataset object and retrieves predictions and losses associated with each task and its respective prediction head. Also define a function that produces metrics based on a validation set."
      ]
    },
    {
      "cell_type": "code",
      "metadata": {
        "id": "fZXN8bOh_NCX"
      },
      "source": [
        "def process_batch(model, batch, loss_reduce='mean'):\n",
        "    input_ids = batch['input_ids'].to(device)\n",
        "    sent_len = torch.sum(input_ids != tokenizer.pad_token_id, dim=1)\n",
        "    # print(sent_len)\n",
        "    attention_mask = batch['attention_mask'].to(device)\n",
        "\n",
        "    humor_labels = batch['humor_labels'].long().to(device)\n",
        "    humor_ratings = batch['humor_ratings'].float().to(device)\n",
        "    humor_controversy = batch['humor_controversy'].long().to(device)\n",
        "    off_ratings = batch['off_ratings'].float().to(device)\n",
        "\n",
        "    distilbert_output = model(input_ids, attention_mask=attention_mask)\n",
        "    hidden_state = distilbert_output[0]  # (bs, seq_len, dim)\n",
        "    pooled_output = hidden_state[:, 0]  # (bs, dim)\n",
        "\n",
        "    pre_humor = F.relu(model.pre_humor(pooled_output))\n",
        "    humor_logits = model.humor_head(model.dropout(pre_humor))\n",
        "    humor_rating_logits = model.humor_rating_head(model.dropout(F.relu(model.pre_humor_rating(pooled_output))))\n",
        "    # humor_rating_logits = model.humor_rating_head(model.dropout(F.relu(model.pre_humor_rating(pre_humor))))\n",
        "    humor_controversy_logits = model.humor_controversy_head(model.dropout(F.relu(model.pre_humor_controversy(pooled_output))))\n",
        "    # humor_controversy_logits = model.humor_controversy_head(model.dropout(F.relu(model.pre_humor_controversy(pre_humor))))\n",
        "    off_logits = model.off_head(model.dropout(F.relu(model.pre_off(pooled_output))))\n",
        "    # off_logits = model.off_head(model.dropout(F.relu(model.pre_off(pre_humor))))\n",
        "\n",
        "    return_objects = {}\n",
        "    return_objects[\"sent_len\"] = sent_len\n",
        "    \n",
        "    class_loss_fn = torch.nn.CrossEntropyLoss(reduction=loss_reduce)\n",
        "    regression_loss_fn = torch.nn.MSELoss(reduction=loss_reduce)\n",
        "\n",
        "    humor_mask = humor_labels != -1\n",
        "    return_objects[\"humor_loss\"] = class_loss_fn(humor_logits[humor_mask], humor_labels[humor_mask])\n",
        "    humor_rating_mask = humor_ratings != -1\n",
        "    return_objects[\"humor_rating_loss\"] = regression_loss_fn(humor_rating_logits[humor_rating_mask].view(-1), humor_ratings[humor_rating_mask])\n",
        "    humor_controversy_mask = humor_controversy != -1\n",
        "    return_objects[\"humor_controversy_loss\"] = class_loss_fn(humor_controversy_logits[humor_controversy_mask], humor_controversy[humor_controversy_mask])\n",
        "    off_mask = off_ratings != -1\n",
        "    return_objects[\"off_loss\"] = regression_loss_fn(off_logits[off_mask].view(-1), off_ratings[off_mask])\n",
        "\n",
        "    return_objects[\"humor_logits\"] = humor_logits[humor_mask]\n",
        "    return_objects[\"humor_rating_logits\"] = humor_rating_logits[humor_rating_mask]\n",
        "    return_objects[\"humor_controversy_logits\"] = humor_controversy_logits[humor_controversy_mask]\n",
        "    return_objects[\"off_logits\"] = off_logits[off_mask]\n",
        "\n",
        "    return_objects[\"humor_labels\"] = humor_labels[humor_mask]\n",
        "    return_objects[\"humor_ratings\"] = humor_ratings[humor_rating_mask]\n",
        "    return_objects[\"humor_controversy\"] = humor_controversy[humor_controversy_mask]\n",
        "    return_objects[\"off_ratings\"] = off_ratings[off_mask]\n",
        "    \n",
        "    return return_objects\n",
        "\n",
        "def weighted_sum_loss(losses, weights):\n",
        "    combined_loss = 0.0\n",
        "    for l_name, l in losses:\n",
        "        combined_loss += l * weights[l_name]\n",
        "    return combined_loss\n",
        "\n",
        "def evaluate(model, batch_loader):\n",
        "    model.eval()\n",
        "    return_metrics = {}\n",
        "    with torch.no_grad():\n",
        "        all_return_objects = None\n",
        "        for batch in batch_loader:\n",
        "            return_objects = process_batch(model, batch, loss_reduce='none')\n",
        "\n",
        "            if all_return_objects is None:\n",
        "                all_return_objects = return_objects\n",
        "            else:\n",
        "                for key in all_return_objects:\n",
        "                    all_return_objects[key] = torch.cat((all_return_objects[key], return_objects[key]), dim=0)\n",
        "\n",
        "        eval_keys = [(\"humor_labels\", \"humor\", \"classification\"), (\"humor_ratings\", \"humor_rating\", \"regression\"), \n",
        "                     (\"humor_controversy\", \"humor_controversy\", \"classification\"), (\"off_ratings\", \"off\", \"regression\")]\n",
        "\n",
        "        return_metrics[\"sent_len\"] = all_return_objects[\"sent_len\"]\n",
        "\n",
        "        for (y_key, out_name, problem_type) in eval_keys:\n",
        "            if all_return_objects[y_key].size()[0] > 0:\n",
        "                return_metrics[out_name + \"_loss\"] = float(all_return_objects[out_name + \"_loss\"].mean())\n",
        "                \n",
        "                if problem_type == \"classification\":\n",
        "                    probs = F.softmax(all_return_objects[out_name + \"_logits\"], dim=1)\n",
        "                    y_hat = probs.argmax(dim=1)\n",
        "                    return_metrics[out_name + \"_predictions\"] = probs.cpu()\n",
        "                    return_metrics[out_name + \"_labels\"] = all_return_objects[y_key].cpu()\n",
        "                    return_metrics[out_name + \"_f1\"] = f1_score(all_return_objects[y_key].cpu(), y_hat.cpu())#, labels=[0, 1], average='macro')\n",
        "                    return_metrics[out_name + \"_acc\"] = accuracy_score(all_return_objects[y_key].cpu(), y_hat.cpu())\n",
        "                elif problem_type == \"regression\":\n",
        "                    return_metrics[out_name + \"_predictions\"] = torch.clamp(all_return_objects[out_name + \"_logits\"].view(-1).cpu(), 0.0, 5.0)\n",
        "                    return_metrics[out_name + \"_labels\"] = all_return_objects[y_key].cpu()\n",
        "                    return_metrics[out_name + \"_rmse\"] = mean_squared_error(all_return_objects[y_key].cpu(), torch.clamp(all_return_objects[out_name + \"_logits\"].view(-1).cpu(), 0.0, 5.0), squared=False)\n",
        "                else:\n",
        "                    raise ValueError(problem_type)\n",
        "                \n",
        "            else:\n",
        "                return_metrics[out_name + \"_loss\"] = 'n/a'\n",
        "                \n",
        "                if problem_type == \"classification\":\n",
        "                    return_metrics[out_name + \"_f1\"] = 'n/a'\n",
        "                elif problem_type == \"regression\":\n",
        "                    return_metrics[out_name + \"_rmse\"] = 'n/a'\n",
        "                else:\n",
        "                    raise ValueError(problem_type)    \n",
        "\n",
        "    return return_metrics\n"
      ],
      "execution_count": 11,
      "outputs": []
    },
    {
      "cell_type": "markdown",
      "metadata": {
        "id": "xy_Z96UoZEUI"
      },
      "source": [
        "Define a function for training a model given training and development datasets, using the previously defined hyperparameters."
      ]
    },
    {
      "cell_type": "code",
      "metadata": {
        "id": "YGgKLPFDpVxD"
      },
      "source": [
        "def train_model(train_loader, val_loader, loss_weights, num_epochs=3, pre_trained_model=None, verbose=False):\n",
        "    # model = DistilBertForSequenceClassification.from_pretrained('distilbert-base-uncased', config=config)\n",
        "    if pre_trained_model is None:\n",
        "        model = AutoModel.from_pretrained(model_name, config=config)\n",
        "        model.dropout = torch.nn.Dropout(0.2)\n",
        "        head_dim = 768\n",
        "        model.pre_humor = torch.nn.Linear(head_dim, head_dim)\n",
        "        model.humor_head = torch.nn.Linear(head_dim, config.num_labels)\n",
        "        model.pre_humor_rating = torch.nn.Linear(head_dim, head_dim)\n",
        "        model.humor_rating_head = torch.nn.Linear(head_dim, 1)\n",
        "        model.pre_humor_controversy = torch.nn.Linear(head_dim, head_dim)\n",
        "        model.humor_controversy_head = torch.nn.Linear(head_dim, config.num_labels)\n",
        "        model.pre_off = torch.nn.Linear(head_dim, head_dim)\n",
        "        model.off_head = torch.nn.Linear(head_dim, 1)\n",
        "    else:\n",
        "        print(\"using intermediate finetuning\")\n",
        "        model = pre_trained_model\n",
        "    model.to(device)\n",
        "    \n",
        "\n",
        "    effective_num_batches = int(np.ceil(float(len(train_loader)) / float(batches_in_effective_batch)))\n",
        "    total_train_steps = num_epochs * effective_num_batches\n",
        "    print(\"warmup steps:\", num_warmup_steps, \"total train steps:\", total_train_steps)\n",
        "\n",
        "    optim = AdamW(model.parameters(), lr=LEARNING_RATE, weight_decay=weight_decay)\n",
        "    scheduler = get_linear_schedule_with_warmup(optim, num_warmup_steps, total_train_steps)\n",
        "\n",
        "    print(\"starting to train...\", flush=True)\n",
        "\n",
        "\n",
        "    optim.zero_grad()\n",
        "    for epoch in range(num_epochs):\n",
        "        model.train()\n",
        "        batch_count = 0\n",
        "        for batch in train_loader:\n",
        "            \n",
        "            all_return_objects = process_batch(model, batch)\n",
        "            all_losses = [(x, all_return_objects[x]) for x in all_return_objects if \"_loss\" in x]\n",
        "            # print(all_losses)\n",
        "            loss = weighted_sum_loss(all_losses, loss_weights) # [weight_off, weight_humor])\n",
        "            # print(loss)\n",
        "            loss.backward()\n",
        "\n",
        "            batch_count += 1\n",
        "            if batch_count % batches_in_effective_batch == 0 or batch_count == len(train_loader) - 1:\n",
        "                optim.step()\n",
        "                scheduler.step()\n",
        "                optim.zero_grad()\n",
        "\n",
        "                if verbose and int(batch_count / batches_in_effective_batch) % int(np.ceil(float(len(train_loader)) / float(batches_in_effective_batch)) / 20.0) == 0:\n",
        "                    loss_format_str = \", \".join([x + \": \" + str(float(all_return_objects[x])) for x in all_return_objects if \"_loss\" in x])\n",
        "                    print(\"batch\", int(batch_count / batches_in_effective_batch), \"of\", int(np.ceil(float(len(train_loader)) / float(batches_in_effective_batch))), \",\", \"train loss:\", float(loss), loss_format_str, flush=True)\n",
        "\n",
        "        # if partition < len(hahackathon_humor_labels):\n",
        "        all_metrics = evaluate(model, val_loader)\n",
        "        all_losses = [(x, all_return_objects[x]) for x in all_metrics if \"_loss\" in x]\n",
        "        dev_loss = weighted_sum_loss(all_losses, loss_weights) # [weight_off, weight_humor])\n",
        "        metric_format_str = \", \".join([x + \": \" + str(float(all_metrics[x])) for x in list(sorted(all_metrics.keys())) if \"f1\" in x or \"acc\" in x or \"rmse\" in x])\n",
        "        print(\"epoch\", epoch, \"dev loss:\", float(dev_loss), metric_format_str, flush=True)\n",
        "        # else:\n",
        "        #     print(\"epoch\", epoch)\n",
        "            \n",
        "        # test_loss_off, test_loss_humor, test_f1_off, test_f1_humor = evaluate(model, test_loader)\n",
        "        # test_loss = weighted_sum_loss([test_loss_off, test_loss_humor], [weight_off, weight_humor])\n",
        "        # print(\"test loss:\", float(test_loss), \"loss off:\", float(test_loss_off), \"loss humor:\", float(test_loss_humor), \"test f1 off:\", test_f1_off, \"test f1 humor:\", test_f1_humor, flush=True)\n",
        "\n",
        "        # hahackathon_loss_off, hahackathon_loss_humor, hahackathon_f1_off, hahackathon_f1_humor = evaluate(model, hahackathon_loader)\n",
        "        # hahackathon_loss = weighted_sum_loss([hahackathon_loss_off, hahackathon_loss_humor], [weight_off, weight_humor])\n",
        "        # print(\"hahackathon loss:\", float(hahackathon_loss), \"loss off:\", float(hahackathon_loss_off), \"loss humor:\", float(hahackathon_loss_humor), \"hahackathon f1 off:\", hahackathon_f1_off, \"hahackathon f1 humor:\", hahackathon_f1_humor, flush=True)    \n",
        "    return model, all_metrics\n"
      ],
      "execution_count": 12,
      "outputs": []
    },
    {
      "cell_type": "markdown",
      "metadata": {
        "id": "bLMA760FZSmU"
      },
      "source": [
        "Train the model for 5 random restarts."
      ]
    },
    {
      "cell_type": "code",
      "metadata": {
        "pycharm": {
          "is_executing": false
        },
        "id": "WoOUcEZB8AFD",
        "colab": {
          "base_uri": "https://localhost:8080/"
        },
        "outputId": "ac6ac499-094c-4505-80d5-9d7ec523a017"
      },
      "source": [
        "loss_weights = {}\n",
        "loss_weights[\"humor_loss\"] = 0.0\n",
        "loss_weights[\"humor_rating_loss\"] = 0.0\n",
        "loss_weights[\"humor_controversy_loss\"] = 0.0\n",
        "loss_weights[\"off_loss\"] = 1.0\n",
        "\n",
        "print(\"loss weights:\", loss_weights)\n",
        "\n",
        "print(\"loading pretrained model...\", flush=True)\n",
        "\n",
        "device = torch.device('cuda') if torch.cuda.is_available() else torch.device('cpu')\n",
        "print(device, flush=True)\n",
        "\n",
        "config = AutoConfig.from_pretrained(model_name)\n",
        "# config.output_hidden_states = True\n",
        "# config.num_labels = NUM_LABELS\n",
        "\n",
        "all_restart_metrics = []\n",
        "all_models = []\n",
        "\n",
        "RANDOM_RESTARTS = 5\n",
        "for r in range(RANDOM_RESTARTS):\n",
        "    print(\"random restart\", r, \"------------------------------------------------------\")\n",
        "\n",
        "    model, all_metrics = train_model(haha_train_loader, haha_val_loader, loss_weights, num_epochs=NUM_EPOCHS)\n",
        "    model.cpu()\n",
        "    all_models.append(model)\n",
        "    \n",
        "    all_restart_metrics.append(all_metrics)\n",
        "\n",
        "# aggregate metrics from all restarts to get mean and standard deviation\n",
        "metric_keys = [k for k in list(sorted(all_restart_metrics[0].keys())) if \"f1\" in k or \"acc\" in k or \"rmse\" in k]\n",
        "metric_vals = {k: [] for k in metric_keys}\n",
        "for restart in all_restart_metrics:\n",
        "    for k in metric_keys:\n",
        "        metric_vals[k].append(restart[k])\n",
        "\n",
        "print(\"----------------------------------------------------------------\")\n",
        "for k in metric_keys:\n",
        "    mean_k = np.mean(metric_vals[k])\n",
        "    std_k = np.std(metric_vals[k])\n",
        "    print(k, \":\", mean_k, \"+/-\", std_k)\n"
      ],
      "execution_count": 13,
      "outputs": [
        {
          "output_type": "stream",
          "text": [
            "loss weights: {'humor_loss': 0.0, 'humor_rating_loss': 0.0, 'humor_controversy_loss': 0.0, 'off_loss': 1.0}\n",
            "loading pretrained model...\n",
            "cuda\n",
            "random restart 0 ------------------------------------------------------\n",
            "warmup steps: 500 total train steps: 2160\n",
            "starting to train...\n",
            "epoch 0 dev loss: 0.0696108341217041 humor_acc: 0.54375, humor_controversy_acc: 0.4928131416837782, humor_controversy_f1: 0.6545454545454545, humor_f1: 0.4478063540090772, humor_rating_rmse: 2.32226824760437, off_rmse: 0.617268443107605\n",
            "epoch 1 dev loss: 0.0904281958937645 humor_acc: 0.45625, humor_controversy_acc: 0.5010266940451745, humor_controversy_f1: 0.667578659370725, humor_f1: 0.21052631578947367, humor_rating_rmse: 2.3222522735595703, off_rmse: 0.6147935390472412\n",
            "epoch 2 dev loss: 0.2772137224674225 humor_acc: 0.45875, humor_controversy_acc: 0.49691991786447637, humor_controversy_f1: 0.6639231824417009, humor_f1: 0.21415607985480942, humor_rating_rmse: 2.322152853012085, off_rmse: 0.5657570362091064\n",
            "random restart 1 ------------------------------------------------------\n",
            "warmup steps: 500 total train steps: 2160\n",
            "starting to train...\n",
            "epoch 0 dev loss: 0.05017060041427612 humor_acc: 0.3875, humor_controversy_acc: 0.5010266940451745, humor_controversy_f1: 0.667578659370725, humor_f1: 0.02, humor_rating_rmse: 2.205223560333252, off_rmse: 0.6667494773864746\n",
            "epoch 1 dev loss: 0.07605504244565964 humor_acc: 0.39375, humor_controversy_acc: 0.49691991786447637, humor_controversy_f1: 0.6620689655172414, humor_f1: 0.043392504930966476, humor_rating_rmse: 2.2039875984191895, off_rmse: 0.5666744112968445\n",
            "epoch 2 dev loss: 0.08490884304046631 humor_acc: 0.40125, humor_controversy_acc: 0.49691991786447637, humor_controversy_f1: 0.6620689655172414, humor_f1: 0.06262230919765166, humor_rating_rmse: 2.2057371139526367, off_rmse: 0.5554927587509155\n",
            "random restart 2 ------------------------------------------------------\n",
            "warmup steps: 500 total train steps: 2160\n",
            "starting to train...\n",
            "epoch 0 dev loss: 0.5869167447090149 humor_acc: 0.38, humor_controversy_acc: 0.49075975359342916, humor_controversy_f1: 0.39805825242718446, humor_f1: 0.004016064257028112, humor_rating_rmse: 2.314598560333252, off_rmse: 0.6226730346679688\n",
            "epoch 1 dev loss: 0.2974282205104828 humor_acc: 0.3725, humor_controversy_acc: 0.4804928131416838, humor_controversy_f1: 0.34285714285714286, humor_f1: 0.01953125, humor_rating_rmse: 2.3188233375549316, off_rmse: 0.5780456066131592\n",
            "epoch 2 dev loss: 0.055325575172901154 humor_acc: 0.37125, humor_controversy_acc: 0.4702258726899384, humor_controversy_f1: 0.34517766497461927, humor_f1: 0.03824091778202677, humor_rating_rmse: 2.3143932819366455, off_rmse: 0.5585123896598816\n",
            "random restart 3 ------------------------------------------------------\n",
            "warmup steps: 500 total train steps: 2160\n",
            "starting to train...\n",
            "epoch 0 dev loss: 0.42568880319595337 humor_acc: 0.60875, humor_controversy_acc: 0.5112936344969199, humor_controversy_f1: 0.4826086956521739, humor_f1: 0.756420233463035, humor_rating_rmse: 2.3186044692993164, off_rmse: 0.6417258977890015\n",
            "epoch 1 dev loss: 0.39567041397094727 humor_acc: 0.6025, humor_controversy_acc: 0.5092402464065708, humor_controversy_f1: 0.4349881796690307, humor_f1: 0.7519500780031202, humor_rating_rmse: 2.3026018142700195, off_rmse: 0.5648390650749207\n",
            "epoch 2 dev loss: 0.0656873807311058 humor_acc: 0.59875, humor_controversy_acc: 0.5133470225872689, humor_controversy_f1: 0.42615012106537536, humor_f1: 0.7490226739640343, humor_rating_rmse: 2.3058979511260986, off_rmse: 0.550879716873169\n",
            "random restart 4 ------------------------------------------------------\n",
            "warmup steps: 500 total train steps: 2160\n",
            "starting to train...\n",
            "epoch 0 dev loss: 0.10921090841293335 humor_acc: 0.59125, humor_controversy_acc: 0.4989733059548255, humor_controversy_f1: 0.008130081300813009, humor_f1: 0.6700302724520686, humor_rating_rmse: 2.315308094024658, off_rmse: 0.619687557220459\n",
            "epoch 1 dev loss: 0.17662568390369415 humor_acc: 0.61875, humor_controversy_acc: 0.49075975359342916, humor_controversy_f1: 0.04615384615384615, humor_f1: 0.7018572825024438, humor_rating_rmse: 2.310091257095337, off_rmse: 0.5741655826568604\n",
            "epoch 2 dev loss: 0.017499728128314018 humor_acc: 0.6075, humor_controversy_acc: 0.5092402464065708, humor_controversy_f1: 0.16724738675958187, humor_f1: 0.6756198347107438, humor_rating_rmse: 2.3112385272979736, off_rmse: 0.5578852891921997\n",
            "----------------------------------------------------------------\n",
            "humor_acc : 0.4875 +/- 0.09854567468945555\n",
            "humor_controversy_acc : 0.4973305954825461 +/- 0.015055690168232737\n",
            "humor_controversy_f1 : 0.45291346415170375 +/- 0.19089238418249\n",
            "humor_f1 : 0.3479323631018532 +/- 0.30445335558651454\n",
            "humor_rating_rmse : 2.291884 +/- 0.043393884\n",
            "off_rmse : 0.5577054 +/- 0.0048373165\n"
          ],
          "name": "stdout"
        }
      ]
    },
    {
      "cell_type": "markdown",
      "metadata": {
        "id": "_po28w2IZV9t"
      },
      "source": [
        "Ensemble the 5 random restarts together."
      ]
    },
    {
      "cell_type": "code",
      "metadata": {
        "id": "op51zX_9CS4u",
        "colab": {
          "base_uri": "https://localhost:8080/",
          "height": 743
        },
        "outputId": "bb35a825-4a3c-49a6-c261-ecab826490a9"
      },
      "source": [
        "save_path = \"/content/drive/My Drive/Hahackathon/\" + model_name + \"_predictions_\"\n",
        "\n",
        "# try ensembling them together\n",
        "ensemble_labels = {k: all_restart_metrics[0][k] for k in all_restart_metrics[0] if \"labels\" in k}\n",
        "prediction_keys = [k for k in all_restart_metrics[0] if \"predictions\" in k]\n",
        "sent_lengths = all_restart_metrics[0][\"sent_len\"].cpu()\n",
        "prediction_vals = {k: [] for k in prediction_keys}\n",
        "\n",
        "# average predictions together\n",
        "for restart in all_restart_metrics:\n",
        "    for k in prediction_keys:\n",
        "        prediction_vals[k].append(restart[k].tolist())\n",
        "\n",
        "print(\"ensemble by average --------------------------------------------------\")\n",
        "for k in prediction_keys:\n",
        "    out_name = k.rsplit(\"_\", 1)[0]\n",
        "    mean_preds = np.mean(prediction_vals[k], axis=0)\n",
        "    if \"rating\" in k or \"off\" in k:\n",
        "        np.save(save_path + out_name + \".npy\", mean_preds)\n",
        "        rmse = mean_squared_error(ensemble_labels[out_name + \"_labels\"], mean_preds, squared=False)\n",
        "        print(out_name, \"rmse:\", rmse)\n",
        "    else:\n",
        "        y_hat = np.argmax(mean_preds, axis=1)\n",
        "        y_true = ensemble_labels[out_name + \"_labels\"].numpy()\n",
        "        f1 = f1_score(y_true, y_hat)#, labels=[0, 1], average='macro')\n",
        "        acc = accuracy_score(y_true, y_hat)\n",
        "        print(out_name, \"f1:\", f1, \"acc:\", acc)\n",
        "\n",
        "        np.save(save_path + out_name + \".npy\", mean_preds)\n",
        "\n",
        "        # print(y_hat == y_true)\n",
        "        if k == \"humor_predictions\":\n",
        "            sent_correct = y_hat == y_true\n",
        "            sent_len_correct = sent_lengths[sent_correct].numpy()\n",
        "            plt.hist(sent_len_correct, bins=20)\n",
        "            plt.xlabel(\"Sentence length\")\n",
        "            plt.ylabel(\"Count\")\n",
        "            plt.title(\"Correct (no pretrain)\")\n",
        "            plt.show()\n",
        "\n",
        "            sent_incorrect = y_hat != y_true\n",
        "            sent_len_incorrect = sent_lengths[sent_incorrect].numpy()\n",
        "            plt.hist(sent_len_incorrect, bins=20)\n",
        "            plt.xlabel(\"Sentence length\")\n",
        "            plt.ylabel(\"Count\")\n",
        "            plt.title(\"Incorrect (no pretrain)\")\n",
        "            plt.ylim(0, 35)\n",
        "            plt.show()\n",
        "\n",
        "            print(\"no_pretrain correct sent length -- min:\", np.min(sent_len_correct), \"mean:\", np.mean(sent_len_correct), \"median:\", np.median(sent_len_correct), \"max:\", np.max(sent_len_correct))\n",
        "            print(\"no pretrain incorrect sent length -- min:\", np.min(sent_len_incorrect), \"mean:\", np.mean(sent_len_incorrect), \"median:\", np.median(sent_len_incorrect), \"max:\", np.max(sent_len_incorrect))\n",
        "\n",
        "\n",
        "# get majority votes\n",
        "vote_vals = {k: [] for k in prediction_keys if \"rating\" not in k and \"off\" not in k}\n",
        "for restart in all_restart_metrics:\n",
        "    for k in vote_vals:\n",
        "        vote_vals[k].append(restart[k].argmax(dim=1).tolist())\n",
        "\n",
        "print(\"ensemble by majority vote (classification only) ----------------------\")\n",
        "for k in vote_vals:\n",
        "    out_name = k.rsplit(\"_\", 1)[0]\n",
        "    mean_preds = np.mean(vote_vals[k], axis=0)\n",
        "\n",
        "    y_hat = np.round(mean_preds)\n",
        "    f1 = f1_score(ensemble_labels[out_name + \"_labels\"], y_hat)#, labels=[0, 1], average='macro')\n",
        "    acc = accuracy_score(ensemble_labels[out_name + \"_labels\"], y_hat)\n",
        "    print(out_name, \"f1:\", f1, \"acc:\", acc)"
      ],
      "execution_count": 14,
      "outputs": [
        {
          "output_type": "stream",
          "text": [
            "ensemble by average --------------------------------------------------\n",
            "humor f1: 0.17677642980935873 acc: 0.40625\n"
          ],
          "name": "stdout"
        },
        {
          "output_type": "display_data",
          "data": {
            "image/png": "[encoded data removed]",
            "text/plain": [
              "<Figure size 432x288 with 1 Axes>"
            ]
          },
          "metadata": {
            "tags": [],
            "needs_background": "light"
          }
        },
        {
          "output_type": "display_data",
          "data": {
            "image/png": "[encoded data removed]",
            "text/plain": [
              "<Figure size 432x288 with 1 Axes>"
            ]
          },
          "metadata": {
            "tags": [],
            "needs_background": "light"
          }
        },
        {
          "output_type": "stream",
          "text": [
            "no_pretrain correct sent length -- min: 6 mean: 30.006153846153847 median: 28.0 max: 72\n",
            "no pretrain incorrect sent length -- min: 10 mean: 29.397894736842105 median: 27.0 max: 136\n",
            "humor_rating rmse: 2.2917149100041403\n",
            "humor_controversy f1: 0.5747126436781609 acc: 0.4681724845995893\n",
            "off rmse: 0.5435247656013068\n",
            "ensemble by majority vote (classification only) ----------------------\n",
            "humor f1: 0.19332161687170477 acc: 0.42625\n",
            "humor_controversy f1: 0.5519713261648745 acc: 0.486652977412731\n"
          ],
          "name": "stdout"
        }
      ]
    },
    {
      "cell_type": "markdown",
      "metadata": {
        "id": "UCE1keg6ZkMB"
      },
      "source": [
        "Define a function to generate predictions to submit to the leaderboard or use for further ensembling (between different pretrained language models) depending on whether the \"should_argmax\" option is set to True or False."
      ]
    },
    {
      "cell_type": "code",
      "metadata": {
        "id": "o80MCCwvZ4jQ"
      },
      "source": [
        "def generate_predictions(all_models, in_path, out_path, should_argmax=True, cols_to_include=[0, 1, 2, 3]):\n",
        "    with open(in_path, encoding='utf-8') as in_file:\n",
        "        df = pd.read_csv(in_path)\n",
        "    \n",
        "    ids = list(df[\"id\"])\n",
        "    texts = list(df[\"text\"])\n",
        "\n",
        "    all_humor_logits = []\n",
        "    all_humor_rating_logits = []\n",
        "    all_controversy_logits = []\n",
        "    all_off_logits = []\n",
        "\n",
        "\n",
        "    for model in all_models:\n",
        "        model.to(device)\n",
        "        model.eval()\n",
        "\n",
        "        model_humor_logits = []\n",
        "        model_humor_rating_logits = []\n",
        "        model_controversy_logits = []\n",
        "        model_off_logits = []\n",
        "        \n",
        "        for i in range(len(ids)):\n",
        "            encoding = tokenizer(texts[i], truncation=True, padding=True)\n",
        "            # print(encoding.size())\n",
        "\n",
        "            distilbert_output = model(torch.tensor([encoding[\"input_ids\"]], device=device), attention_mask=torch.tensor([encoding[\"attention_mask\"]], device=device))\n",
        "            hidden_state = distilbert_output[0]  # (bs, seq_len, dim)\n",
        "            # print(hidden_state.size())\n",
        "            pooled_output = hidden_state[:, 0]  # (bs, dim)\n",
        "            # print(pooled_output.size())\n",
        "            pre_humor = F.relu(model.pre_humor(pooled_output))\n",
        "\n",
        "            humor_logits = model.humor_head(model.dropout(pre_humor))\n",
        "            humor_rating = model.humor_rating_head(model.dropout(F.relu(model.pre_humor_rating(pooled_output))))\n",
        "            humor_controversy_logits = model.humor_controversy_head(model.dropout(F.relu(model.pre_humor_controversy(pooled_output))))\n",
        "            offense_rating = model.off_head(model.dropout(F.relu(model.pre_off(pooled_output))))\n",
        "\n",
        "            # print(humor_logits.size())\n",
        "            humor_label = F.softmax(humor_logits, dim=1) #.argmax(dim=1)\n",
        "            humor_controversy = F.softmax(humor_controversy_logits, dim=1) #.argmax(dim=1)\n",
        "            humor_rating = torch.clamp(humor_rating, 0.0, 5.0)\n",
        "            offense_rating = torch.clamp(offense_rating, 0.0, 5.0)\n",
        "\n",
        "            model_humor_logits.append(humor_label[0].tolist())\n",
        "            model_humor_rating_logits.append(float(humor_rating[0][0]))\n",
        "            model_controversy_logits.append(humor_controversy[0].tolist())\n",
        "            model_off_logits.append(float(offense_rating[0][0]))\n",
        "\n",
        "            if i % 100 == 0:\n",
        "                print(i, \"done\")\n",
        "\n",
        "        all_humor_logits.append(model_humor_logits)\n",
        "        all_humor_rating_logits.append(model_humor_rating_logits)\n",
        "        all_controversy_logits.append(model_controversy_logits)\n",
        "        all_off_logits.append(model_off_logits)\n",
        "        model.cpu()\n",
        "\n",
        "\n",
        "    mean_humor_logits = np.mean(all_humor_logits, axis=0)\n",
        "    mean_humor_rating_logits = np.mean(all_humor_rating_logits, axis=0)\n",
        "    mean_controversy_logits = np.mean(all_controversy_logits, axis=0)\n",
        "    mean_off_logits = np.mean(all_off_logits, axis=0)\n",
        "\n",
        "    if should_argmax:\n",
        "        mean_humor_logits = np.argmax(mean_humor_logits, axis=1)\n",
        "        mean_controversy_logits = np.argmax(mean_controversy_logits, axis=1)\n",
        "    else:\n",
        "        mean_humor_logits = mean_humor_logits[:, 1]\n",
        "        mean_controversy_logits = mean_controversy_logits[:, 1]\n",
        "\n",
        "    with open(out_path, \"w\") as out_file:\n",
        "        out_file.write(\"id\")\n",
        "        if 0 in cols_to_include:\n",
        "            out_file.write(\",is_humor\")\n",
        "        if 1 in cols_to_include:\n",
        "            out_file.write(\",humor_rating\")\n",
        "        if 2 in cols_to_include:\n",
        "            out_file.write(\",humor_controversy\")\n",
        "        if 3 in cols_to_include:\n",
        "            out_file.write(\",offense_rating\")\n",
        "        out_file.write(\"\\n\")\n",
        "\n",
        "        for i in range(len(ids)):\n",
        "            result_strs = [str(ids[i])]\n",
        "            if 0 in cols_to_include:\n",
        "                if should_argmax:\n",
        "                    result_strs.append(str(int(mean_humor_logits[i])))\n",
        "                else:\n",
        "                    result_strs.append(str(mean_humor_logits[i]))\n",
        "            if 1 in cols_to_include:\n",
        "                result_strs.append(str(mean_humor_rating_logits[i]))\n",
        "            if 2 in cols_to_include:\n",
        "                if should_argmax:\n",
        "                    result_strs.append(str(int(mean_controversy_logits[i])))\n",
        "                else:\n",
        "                    result_strs.append(str(mean_controversy_logits[i]))\n",
        "            if 3 in cols_to_include:\n",
        "                result_strs.append(str(mean_off_logits[i]))\n",
        "            format_str = \",\".join(result_strs)\n",
        "            # print(format_str)\n",
        "            out_file.write(format_str + \"\\n\")\n",
        "\n",
        "            if i % 100 == 0:\n",
        "                print(i, \"done\")"
      ],
      "execution_count": 15,
      "outputs": []
    },
    {
      "cell_type": "code",
      "metadata": {
        "id": "KvApNaEtjhK7",
        "colab": {
          "base_uri": "https://localhost:8080/"
        },
        "outputId": "c526625e-3971-47b1-82aa-8ae1cb2cb4ea"
      },
      "source": [
        "generate_predictions(all_models, \"/content/drive/My Drive/Hahackathon/public_dev.csv\", \"/content/drive/My Drive/Hahackathon/\"+model_name+\"_offense_individual_out_dev_labels.csv\", should_argmax=True, cols_to_include=[3])\n",
        "# generate_predictions(all_models, \"/content/drive/My Drive/Hahackathon/public_dev.csv\", \"/content/drive/My Drive/Hahackathon/\"+model_name+\"_out_dev_labels.csv\", should_argmax=True)\n",
        "# generate_predictions(all_models, \"/content/drive/My Drive/Hahackathon/public_dev.csv\", \"/content/drive/My Drive/Hahackathon/\"+model_name+\"_out_dev_preds.csv\", should_argmax=False)"
      ],
      "execution_count": 16,
      "outputs": [
        {
          "output_type": "stream",
          "text": [
            "0 done\n",
            "100 done\n",
            "200 done\n",
            "300 done\n",
            "400 done\n",
            "500 done\n",
            "600 done\n",
            "700 done\n",
            "800 done\n",
            "900 done\n",
            "0 done\n",
            "100 done\n",
            "200 done\n",
            "300 done\n",
            "400 done\n",
            "500 done\n",
            "600 done\n",
            "700 done\n",
            "800 done\n",
            "900 done\n",
            "0 done\n",
            "100 done\n",
            "200 done\n",
            "300 done\n",
            "400 done\n",
            "500 done\n",
            "600 done\n",
            "700 done\n",
            "800 done\n",
            "900 done\n",
            "0 done\n",
            "100 done\n",
            "200 done\n",
            "300 done\n",
            "400 done\n",
            "500 done\n",
            "600 done\n",
            "700 done\n",
            "800 done\n",
            "900 done\n",
            "0 done\n",
            "100 done\n",
            "200 done\n",
            "300 done\n",
            "400 done\n",
            "500 done\n",
            "600 done\n",
            "700 done\n",
            "800 done\n",
            "900 done\n",
            "0 done\n",
            "100 done\n",
            "200 done\n",
            "300 done\n",
            "400 done\n",
            "500 done\n",
            "600 done\n",
            "700 done\n",
            "800 done\n",
            "900 done\n"
          ],
          "name": "stdout"
        }
      ]
    },
    {
      "cell_type": "markdown",
      "metadata": {
        "id": "pae_ibAcZ2KX"
      },
      "source": [
        "Load the 200k humor dataset and calculate some basic statistics."
      ]
    },
    {
      "cell_type": "code",
      "metadata": {
        "pycharm": {
          "is_executing": false,
          "name": "#%% code\n"
        },
        "id": "X2PoVAR78AE4"
      },
      "source": [
        "# train_file = \"/content/drive/My Drive/OLID/olid-training-v1.0.tsv\"\n",
        "# test_tweets = \"/content/drive/My Drive/OLID/testset-levela.tsv\"\n",
        "# test_labels = \"/content/drive/My Drive/OLID/labels-levela.csv\"\n",
        "\n",
        "# hatebase_file = \"/content/drive/My Drive/Hatebase/labeled_data.csv\"\n",
        "\n",
        "humor200k_train_file = \"/content/drive/My Drive/humor_200k/train.csv\"\n",
        "humor200k_dev_file = \"/content/drive/My Drive/humor_200k/dev.csv\"\n",
        "humor200k_test_file = \"/content/drive/My Drive/humor_200k/test.csv\"\n",
        "\n",
        "# print(\"reading csvs...\", flush=True)\n",
        "\n",
        "# train_df = pd.read_csv(train_file, sep=\"\\t\", encoding=\"utf-8\")\n",
        "# test_tweets_df = pd.read_csv(test_tweets, sep=\"\\t\", encoding=\"utf-8\")\n",
        "# test_labels_df = pd.read_csv(test_labels, names=[\"index\", \"label\"], encoding=\"utf-8\")\n",
        "\n",
        "# hatebase_df = pd.read_csv(hatebase_file)\n",
        "\n",
        "# print(\"splitting into train/val...\", flush=True)\n",
        "\n",
        "# train_texts, train_off_labels = list(train_df[\"tweet\"]), train_df[\"subtask_a\"]\n",
        "# test_texts, test_off_labels = list(test_tweets_df[\"tweet\"]), test_labels_df[\"label\"]\n",
        "\n",
        "# print(\"olid training size:\", len(train_texts), flush=True)\n",
        "# print(\"hatebase training size:\", len(hatebase_df[\"tweet\"]), flush=True)\n",
        "\n",
        "# # print(train_labels, flush=True)\n",
        "# # print(test_labels, flush=True)\n",
        "\n",
        "# train_off_labels = list(train_off_labels.replace(\"OFF\", 1).replace(\"NOT\", 0).astype('int32'))\n",
        "# test_off_labels = list(test_off_labels.replace(\"OFF\", 1).replace(\"NOT\", 0).astype('int32'))\n",
        "\n",
        "# # print(train_labels, flush=True)\n",
        "# # print(test_labels, flush=True)\n",
        "\n",
        "# NUM_LABELS = 2\n",
        "# train_texts = preprocess_texts(train_texts)\n",
        "# test_texts = preprocess_texts(test_texts)\n",
        "\n",
        "# train_texts, val_texts, train_off_labels, val_off_labels = train_test_split(train_texts, train_off_labels, test_size=.2)\n",
        "\n",
        "# hatebase_labels = list(hatebase_df[\"class\"].replace(0, 1).replace(2, 0))\n",
        "\n",
        "# train_texts += preprocess_texts(list(hatebase_df[\"tweet\"]))\n",
        "# train_off_labels += hatebase_labels\n",
        "\n",
        "# train_humor_labels = list(np.ones(len(train_off_labels)) * -1)\n",
        "# val_humor_labels = list(np.ones(len(val_off_labels)) * -1)\n",
        "# test_humor_labels = list(np.ones(len(test_off_labels)) * -1)\n",
        "\n",
        "# print(\"offensive only-- train size:\", len(train_texts), \"val size:\", len(val_texts), \"test size:\", len(test_texts))\n",
        "\n",
        "humor200k_train_df = pd.read_csv(humor200k_train_file, encoding=\"utf-8\")\n",
        "humor200k_dev_df = pd.read_csv(humor200k_dev_file, encoding=\"utf-8\")\n",
        "\n",
        "h200k_train_texts, h200k_train_humor_labels = list(humor200k_train_df[\"text\"]), np.array(humor200k_train_df['humor'].astype(int))\n",
        "h200k_val_texts, h200k_val_humor_labels = list(humor200k_dev_df[\"text\"]), np.array(humor200k_dev_df['humor'].astype(int))\n",
        "\n",
        "h200k_train_texts, h200k_val_texts, h200k_train_humor_labels, h200k_val_humor_labels = train_test_split(h200k_train_texts, h200k_train_humor_labels, test_size=.2)\n",
        "\n",
        "h200k_train_humor_ratings = np.ones(len(h200k_train_humor_labels)) * -1\n",
        "h200k_train_humor_controversy = np.ones(len(h200k_train_humor_labels)) * -1\n",
        "h200k_train_off_ratings = np.ones(len(h200k_train_humor_labels)) * -1\n",
        "h200k_val_humor_ratings = np.ones(len(h200k_val_humor_labels)) * -1\n",
        "h200k_val_humor_controversy = np.ones(len(h200k_val_humor_labels)) * -1\n",
        "h200k_val_off_ratings = np.ones(len(h200k_val_humor_labels)) * -1\n",
        "\n",
        "print(\"humor only-- train size:\", len(h200k_train_texts), \"val size:\", len(h200k_val_texts))\n",
        "\n",
        "\n",
        "print(\"encoding texts with pretrained tokenizer...\", flush=True)\n",
        "\n",
        "h200k_train_encodings = tokenizer(h200k_train_texts, truncation=True, padding=True)\n",
        "# print(np.array(h200k_train_encodings['input_ids']) != 0)\n",
        "# h200k_train_sent_lengths = np.sum(np.array(h200k_train_encodings['input_ids']) != tokenizer.pad_token_id, axis=1)\n",
        "plt.rcParams[\"figure.figsize\"] = (12,5)\n",
        "plt.subplot(1,2,1)\n",
        "h200k_train_sent_lengths = [len(t) for j, t in enumerate(h200k_train_texts) if h200k_train_humor_labels[j]]\n",
        "plt.hist(h200k_train_sent_lengths, bins=20, density=True)\n",
        "plt.xlabel(\"Text length\")\n",
        "plt.ylabel(\"Percent of Samples\")\n",
        "plt.title(\"200k Humor\")\n",
        "# plt.show()\n",
        "\n",
        "plt.subplot(1,2,2)\n",
        "h200k_train_sent_lengths = [len(t) for j, t in enumerate(h200k_train_texts) if not h200k_train_humor_labels[j]]\n",
        "plt.hist(h200k_train_sent_lengths, bins=20, density=True)\n",
        "plt.xlabel(\"Text length\")\n",
        "plt.ylabel(\"Percent of Samples\")\n",
        "plt.title(\"200k Non-Humor\")\n",
        "plt.show()\n",
        "\n",
        "print(\"h200k sent lengths min:\", np.min(h200k_train_sent_lengths), \"mean:\", np.mean(h200k_train_sent_lengths), \"median:\", np.median(h200k_train_sent_lengths), \"max:\", np.max(h200k_train_sent_lengths))\n",
        "h200k_val_encodings = tokenizer(h200k_val_texts, truncation=True, padding=True)\n",
        "\n",
        "humor_train_dataset = HahaDataset(h200k_train_encodings, h200k_train_humor_labels, h200k_train_humor_ratings, h200k_train_humor_controversy, h200k_train_off_ratings)\n",
        "humor_val_dataset = HahaDataset(h200k_val_encodings, h200k_val_humor_labels, h200k_val_humor_ratings, h200k_val_humor_controversy, h200k_val_off_ratings)\n",
        "\n",
        "# indices = list(range(len(h200k_train_humor_labels)))\n",
        "# np.random.shuffle(indices)\n",
        "# num_partitions = 5\n",
        "# partition_size = int(len(h200k_train_humor_labels) / num_partitions)\n",
        "# h200k_train_partitions = {}\n",
        "# for i in range(num_partitions):\n",
        "#     subset_indices = np.array(indices[i * partition_size: (i+1) * partition_size])\n",
        "#     subset_h200k_train_encodings = tokenizer(list(np.array(h200k_train_texts)[subset_indices]), truncation=True, padding=True)\n",
        "    \n",
        "#     subset_h200k_train_humor_labels = h200k_train_humor_labels[subset_indices]\n",
        "#     subset_h200k_train_humor_ratings = h200k_train_humor_ratings[subset_indices]\n",
        "#     subset_h200k_train_humor_controversy = h200k_train_humor_controversy[subset_indices]\n",
        "#     subset_h200k_train_off_ratings = h200k_train_off_ratings[subset_indices]\n",
        "\n",
        "#     h200k_train_partitions[i] = HahaDataset(subset_h200k_train_encodings, subset_h200k_train_humor_labels, subset_h200k_train_humor_ratings, subset_h200k_train_humor_controversy, subset_h200k_train_off_ratings)\n",
        "\n",
        "#     print(\"humor train partition\", i, \"size:\", len(h200k_train_partitions[i]))    \n",
        "print(\"humor val size:\", len(humor_val_dataset))\n",
        "\n",
        "\n",
        "\n",
        "\n",
        "# train_texts += h200k_train_texts\n",
        "# val_texts += h200k_val_texts\n",
        "# test_texts += h200k_test_texts\n",
        "# train_off_labels += h200k_train_off_labels\n",
        "# val_off_labels += h200k_val_off_labels\n",
        "# test_off_labels += h200k_test_off_labels\n",
        "# train_humor_labels += h200k_train_humor_labels\n",
        "# val_humor_labels += h200k_val_humor_labels\n",
        "# test_humor_labels += h200k_test_humor_labels\n",
        "\n",
        "# print(\"combined-- train size:\", len(train_texts), \"val size:\", len(val_texts), \"test size:\", len(test_texts))\n",
        "\n",
        "# num_humor = np.sum(np.array(train_humor_labels) != -1)\n",
        "# num_off = np.sum(np.array(train_off_labels) != -1)\n",
        "\n",
        "# num_largest = np.max([num_humor, num_off])\n",
        "\n",
        "# if num_humor > 0:\n",
        "#     weight_humor = num_largest / num_humor\n",
        "# else:\n",
        "#     weight_humor = 0.0\n",
        "# if num_off > 0:\n",
        "#     weight_off = num_largest / num_off\n",
        "# else:\n",
        "#     weight_off = 0.0\n",
        "\n",
        "# print(\"number of train examples that have humor labels:\", num_humor)\n",
        "# print(\"number of train examples that have offensive labels:\", num_off)\n",
        "# print(\"weight for humor class:\", weight_humor)\n",
        "# print(\"weight for offensive class:\", weight_off)\n",
        "\n",
        "# print(\"encoding texts with pretrained tokenizer...\", flush=True)\n",
        "\n",
        "# train_encodings = tokenizer(train_texts, truncation=True, padding=True)\n",
        "# val_encodings = tokenizer(val_texts, truncation=True, padding=True)\n",
        "# test_encodings = tokenizer(test_texts, truncation=True, padding=True)\n",
        "\n",
        "# print(\"creating datasets...\", flush=True)\n",
        "\n",
        "# train_dataset = HahaDataset(train_encodings, train_off_labels, train_humor_labels)\n",
        "# val_dataset = HahaDataset(val_encodings, val_off_labels, val_humor_labels)\n",
        "# test_dataset = HahaDataset(test_encodings, test_off_labels, test_humor_labels)"
      ],
      "execution_count": null,
      "outputs": []
    },
    {
      "cell_type": "code",
      "metadata": {
        "id": "bOJGQXPL4oxe"
      },
      "source": [
        "train_loader = DataLoader(humor_train_dataset, batch_size=BATCH_SIZE, shuffle=True)\n",
        "val_loader = DataLoader(humor_val_dataset, batch_size=BATCH_SIZE)\n",
        "# test_loader = DataLoader(humor_test_dataset, batch_size=BATCH_SIZE)"
      ],
      "execution_count": null,
      "outputs": []
    },
    {
      "cell_type": "markdown",
      "metadata": {
        "id": "aag6BgEiaEmR"
      },
      "source": [
        "Use intermediate finetuning on the 200k humor dataset before further finetuning for our downstream task."
      ]
    },
    {
      "cell_type": "code",
      "metadata": {
        "id": "_u9XmvTZK9CY"
      },
      "source": [
        "pretrain_loss_weights = {}\n",
        "pretrain_loss_weights[\"humor_loss\"] = 1.0\n",
        "pretrain_loss_weights[\"humor_rating_loss\"] = 0.0\n",
        "pretrain_loss_weights[\"humor_controversy_loss\"] = 0.0\n",
        "pretrain_loss_weights[\"off_loss\"] = 0.0\n",
        "\n",
        "print(\"loss weights:\", pretrain_loss_weights)\n",
        "\n",
        "print(\"loading pretrained model...\", flush=True)\n",
        "\n",
        "pretrain_restart_metrics = []\n",
        "pretrain_models = []\n",
        "\n",
        "RANDOM_RESTARTS = 1\n",
        "for r in range(RANDOM_RESTARTS):\n",
        "    print(\"random restart\", r, \"------------------------------------------------------\")\n",
        "\n",
        "    model, all_metrics = train_model(train_loader, haha_val_loader, pretrain_loss_weights, num_epochs=1)\n",
        "    model.cpu()\n",
        "    pretrain_models.append(model)\n",
        "    \n",
        "    pretrain_restart_metrics.append(all_metrics)\n",
        "\n",
        "# aggregate metrics from all restarts to get mean and standard deviation\n",
        "pretrain_metric_keys = [k for k in list(sorted(pretrain_restart_metrics[0].keys())) if \"f1\" in k or \"acc\" in k or \"rmse\" in k]\n",
        "pretrain_metric_vals = {k: [] for k in pretrain_metric_keys}\n",
        "for restart in pretrain_restart_metrics:\n",
        "    for k in pretrain_metric_keys:\n",
        "        pretrain_metric_vals[k].append(restart[k])\n",
        "\n",
        "print(\"----------------------------------------------------------------\")\n",
        "for k in pretrain_metric_keys:\n",
        "    mean_k = np.mean(pretrain_metric_vals[k])\n",
        "    std_k = np.std(pretrain_metric_vals[k])\n",
        "    print(k, \":\", mean_k, \"+/-\", std_k)\n"
      ],
      "execution_count": null,
      "outputs": []
    },
    {
      "cell_type": "markdown",
      "metadata": {
        "id": "BNOC4hHIaOEf"
      },
      "source": [
        "Investigate whether the intermediate finetuning results in better performance on shorter texts (such as those more common in the 200k dataset)."
      ]
    },
    {
      "cell_type": "code",
      "metadata": {
        "id": "UQ5EJxajT40Y"
      },
      "source": [
        "sent_lengths = pretrain_restart_metrics[0][\"sent_len\"].cpu()\n",
        "\n",
        "y_hat = np.argmax(pretrain_restart_metrics[0][\"humor_predictions\"].numpy(), axis=1)\n",
        "y_true = pretrain_restart_metrics[0][\"humor_labels\"].numpy()\n",
        "\n",
        "sent_correct = y_hat == y_true\n",
        "sent_len_correct = sent_lengths[sent_correct].numpy()\n",
        "plt.hist(sent_lengths[sent_correct], bins=20)\n",
        "plt.xlabel(\"Sentence length\")\n",
        "plt.ylabel(\"Count\")\n",
        "plt.title(\"Correct (only pretrain)\")\n",
        "plt.ylim(0, 200)\n",
        "plt.show()\n",
        "\n",
        "sent_incorrect = y_hat != y_true\n",
        "sent_len_incorrect = sent_lengths[sent_incorrect].numpy()\n",
        "plt.hist(sent_len_incorrect, bins=20)\n",
        "plt.xlabel(\"Sentence length\")\n",
        "plt.ylabel(\"Count\")\n",
        "plt.title(\"Incorrect (only pretrain)\")\n",
        "plt.ylim(0, 35)\n",
        "plt.show()\n",
        "print(\"only pretrain correct sent length -- min:\", np.min(sent_len_correct), \"mean:\", np.mean(sent_len_correct), \"median:\", np.median(sent_len_correct), \"max:\", np.max(sent_len_correct))\n",
        "print(\"only pretrain incorrect sent length -- min:\", np.min(sent_len_incorrect), \"mean:\", np.mean(sent_len_incorrect), \"median:\", np.median(sent_len_incorrect), \"max:\", np.max(sent_len_incorrect))"
      ],
      "execution_count": null,
      "outputs": []
    },
    {
      "cell_type": "markdown",
      "metadata": {
        "id": "43rcDSe5aWzA"
      },
      "source": [
        "Finish finetuning the model for our downstream task."
      ]
    },
    {
      "cell_type": "code",
      "metadata": {
        "id": "-Hv5QnStTRhg"
      },
      "source": [
        "loss_weights = {}\n",
        "loss_weights[\"humor_loss\"] = 1.0\n",
        "loss_weights[\"humor_rating_loss\"] = 1.0\n",
        "loss_weights[\"humor_controversy_loss\"] = 1.0\n",
        "loss_weights[\"off_loss\"] = 1.0\n",
        "\n",
        "print(\"loss weights:\", loss_weights)\n",
        "\n",
        "print(\"loading pretrained model...\", flush=True)\n",
        "\n",
        "device = torch.device('cuda') if torch.cuda.is_available() else torch.device('cpu')\n",
        "print(device, flush=True)\n",
        "\n",
        "config = AutoConfig.from_pretrained(model_name)\n",
        "# config.output_hidden_states = True\n",
        "# config.num_labels = NUM_LABELS\n",
        "\n",
        "finetune_restart_metrics = []\n",
        "finetune_models = []\n",
        "\n",
        "for r in range(len(pretrain_models)):\n",
        "    print(\"random restart\", r, \"------------------------------------------------------\")\n",
        "\n",
        "    model, all_metrics = train_model(haha_train_loader, haha_val_loader, loss_weights, num_epochs=NUM_EPOCHS, pre_trained_model=pretrain_models[r])\n",
        "    model.cpu()\n",
        "    finetune_models.append(model)\n",
        "    \n",
        "    finetune_restart_metrics.append(all_metrics)\n",
        "\n",
        "# aggregate metrics from all restarts to get mean and standard deviation\n",
        "finetune_metric_keys = [k for k in list(sorted(finetune_restart_metrics[0].keys())) if \"f1\" in k or \"acc\" in k or \"rmse\" in k]\n",
        "finetune_metric_vals = {k: [] for k in finetune_metric_keys}\n",
        "for restart in finetune_restart_metrics:\n",
        "    for k in finetune_metric_keys:\n",
        "        finetune_metric_vals[k].append(restart[k])\n",
        "\n",
        "print(\"----------------------------------------------------------------\")\n",
        "for k in finetune_metric_keys:\n",
        "    mean_k = np.mean(finetune_metric_vals[k])\n",
        "    std_k = np.std(finetune_metric_vals[k])\n",
        "    print(k, \":\", mean_k, \"+/-\", std_k)\n"
      ],
      "execution_count": null,
      "outputs": []
    },
    {
      "cell_type": "markdown",
      "metadata": {
        "id": "euwH0g6yabS7"
      },
      "source": [
        "Save the predictions for use in further ensembling."
      ]
    },
    {
      "cell_type": "code",
      "metadata": {
        "id": "m9O12RkQ7egM"
      },
      "source": [
        "save_path = \"/content/drive/My Drive/Hahackathon/\" + model_name + \"pretrain_humor_predictions_\"\n",
        "\n",
        "# try ensembling them together\n",
        "ensemble_labels = {k: finetune_restart_metrics[0][k] for k in finetune_restart_metrics[0] if \"labels\" in k}\n",
        "prediction_keys = [k for k in finetune_restart_metrics[0] if \"predictions\" in k]\n",
        "sent_lengths = finetune_restart_metrics[0][\"sent_len\"].cpu()\n",
        "prediction_vals = {k: [] for k in prediction_keys}\n",
        "\n",
        "# average predictions together\n",
        "for restart in finetune_restart_metrics:\n",
        "    for k in prediction_keys:\n",
        "        prediction_vals[k].append(restart[k].tolist())\n",
        "\n",
        "print(\"ensemble by average --------------------------------------------------\")\n",
        "for k in prediction_keys:\n",
        "    out_name = k.rsplit(\"_\", 1)[0]\n",
        "    mean_preds = np.mean(prediction_vals[k], axis=0)\n",
        "    if \"rating\" in k or \"off\" in k:\n",
        "        np.save(save_path + out_name + \".npy\", mean_preds)\n",
        "        rmse = mean_squared_error(ensemble_labels[out_name + \"_labels\"], mean_preds, squared=False)\n",
        "        print(out_name, \"rmse:\", rmse)\n",
        "    else:\n",
        "        y_hat = np.argmax(mean_preds, axis=1)\n",
        "        y_true = ensemble_labels[out_name + \"_labels\"].numpy()\n",
        "        f1 = f1_score(y_true, y_hat)#, labels=[0, 1], average='macro')\n",
        "        acc = accuracy_score(y_true, y_hat)\n",
        "        print(out_name, \"f1:\", f1, \"acc:\", acc)\n",
        "\n",
        "        np.save(save_path + out_name + \".npy\", mean_preds)\n",
        "\n",
        "        # print(y_hat == y_true)\n",
        "        if k == \"humor_predictions\":\n",
        "            sent_correct = y_hat == y_true\n",
        "            sent_len_correct = sent_lengths[sent_correct].numpy()\n",
        "            plt.hist(sent_len_correct, bins=20)\n",
        "            plt.xlabel(\"Sentence length\")\n",
        "            plt.ylabel(\"Count\")\n",
        "            plt.title(\"Correct (no pretrain)\")\n",
        "            plt.show()\n",
        "\n",
        "            sent_incorrect = y_hat != y_true\n",
        "            sent_len_incorrect = sent_lengths[sent_incorrect].numpy()\n",
        "            plt.hist(sent_len_incorrect, bins=20)\n",
        "            plt.xlabel(\"Sentence length\")\n",
        "            plt.ylabel(\"Count\")\n",
        "            plt.title(\"Incorrect (no pretrain)\")\n",
        "            plt.ylim(0, 35)\n",
        "            plt.show()\n",
        "\n",
        "            print(\"no_pretrain correct sent length -- min:\", np.min(sent_len_correct), \"mean:\", np.mean(sent_len_correct), \"median:\", np.median(sent_len_correct), \"max:\", np.max(sent_len_correct))\n",
        "            print(\"no pretrain incorrect sent length -- min:\", np.min(sent_len_incorrect), \"mean:\", np.mean(sent_len_incorrect), \"median:\", np.median(sent_len_incorrect), \"max:\", np.max(sent_len_incorrect))\n",
        "\n",
        "\n",
        "# get majority votes\n",
        "vote_vals = {k: [] for k in prediction_keys if \"rating\" not in k and \"off\" not in k}\n",
        "for restart in finetune_restart_metrics:\n",
        "    for k in vote_vals:\n",
        "        vote_vals[k].append(restart[k].argmax(dim=1).tolist())\n",
        "\n",
        "print(\"ensemble by majority vote (classification only) ----------------------\")\n",
        "for k in vote_vals:\n",
        "    out_name = k.rsplit(\"_\", 1)[0]\n",
        "    mean_preds = np.mean(vote_vals[k], axis=0)\n",
        "\n",
        "    y_hat = np.round(mean_preds)\n",
        "    f1 = f1_score(ensemble_labels[out_name + \"_labels\"], y_hat)#, labels=[0, 1], average='macro')\n",
        "    acc = accuracy_score(ensemble_labels[out_name + \"_labels\"], y_hat)\n",
        "    print(out_name, \"f1:\", f1, \"acc:\", acc)"
      ],
      "execution_count": null,
      "outputs": []
    },
    {
      "cell_type": "code",
      "metadata": {
        "id": "UsTO05Sh7eUX"
      },
      "source": [
        "generate_predictions(finetune_models, \"/content/drive/My Drive/Hahackathon/public_dev.csv\", \"/content/drive/My Drive/Hahackathon/\"+model_name+\"pretrain_humor_out_dev_labels.csv\", should_argmax=True)\n",
        "generate_predictions(finetune_models, \"/content/drive/My Drive/Hahackathon/public_dev.csv\", \"/content/drive/My Drive/Hahackathon/\"+model_name+\"pretrain_humor_out_dev_preds.csv\", should_argmax=False)"
      ],
      "execution_count": null,
      "outputs": []
    },
    {
      "cell_type": "code",
      "metadata": {
        "id": "Q26hCAGvX1fi"
      },
      "source": [
        "sent_lengths = finetune_restart_metrics[0][\"sent_len\"].cpu()\n",
        "\n",
        "y_hat = np.argmax(finetune_restart_metrics[0][\"humor_predictions\"].numpy(), axis=1)\n",
        "y_true = finetune_restart_metrics[0][\"humor_labels\"].numpy()\n",
        "\n",
        "sent_correct = y_hat == y_true\n",
        "sent_len_correct = sent_lengths[sent_correct].numpy()\n",
        "plt.hist(sent_len_correct, bins=20)\n",
        "plt.xlabel(\"Sentence length\")\n",
        "plt.ylabel(\"Count\")\n",
        "plt.title(\"Correct (finetune)\")\n",
        "plt.show()\n",
        "\n",
        "\n",
        "sent_incorrect = y_hat != y_true\n",
        "sent_len_incorrect = sent_lengths[sent_incorrect].numpy()\n",
        "plt.hist(sent_len_incorrect, bins=20)\n",
        "plt.xlabel(\"Sentence length\")\n",
        "plt.ylabel(\"Count\")\n",
        "plt.title(\"Incorrect (finetune)\")\n",
        "plt.ylim(0, 35)\n",
        "plt.show()\n",
        "\n",
        "# print(sent_len_correct)\n",
        "\n",
        "print(\"finetune correct sent length -- min:\", np.min(sent_len_correct), \"mean:\", np.mean(sent_len_correct), \"median:\", np.median(sent_len_correct), \"max:\", np.max(sent_len_correct))\n",
        "print(\"finetune incorrect sent length -- min:\", np.min(sent_len_incorrect), \"mean:\", np.mean(sent_len_incorrect), \"median:\", np.median(sent_len_incorrect), \"max:\", np.max(sent_len_incorrect))"
      ],
      "execution_count": null,
      "outputs": []
    }
  ]
}